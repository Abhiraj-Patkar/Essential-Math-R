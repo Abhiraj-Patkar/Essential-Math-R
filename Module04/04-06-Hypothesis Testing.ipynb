{
 "cells": [
  {
   "cell_type": "markdown",
   "metadata": {},
   "source": [
    "# Hypothesis Testing"
   ]
  },
  {
   "cell_type": "markdown",
   "metadata": {},
   "source": [
    "## Single-Sample, One-Sided Tests\n",
    "Our students have completed their school year, and been asked to rate their statistics class on a scale between -5 (terrible) and 5 (fantastic). The statistics class is taught online to tens of thousands of students, so to assess its success, we'll take a random sample of 50 ratings.\n",
    "\n",
    "Run the following code to draw 50 samples."
   ]
  },
  {
   "cell_type": "code",
   "execution_count": 8,
   "metadata": {},
   "outputs": [
    {
     "name": "stdout",
     "output_type": "stream",
     "text": [
      "[1] \"Mean:  1.3\"\n",
      "[1] \"Max:  5\"\n",
      "[1] \"Min:  -4\"\n"
     ]
    },
    {
     "data": {},
     "metadata": {},
     "output_type": "display_data"
    },
    {
     "data": {
      "image/png": "[encoded data removed]",
      "text/plain": [
       "plot without title"
      ]
     },
     "metadata": {},
     "output_type": "display_data"
    }
   ],
   "source": [
    "library(ggplot2)\n",
    "library(repr)\n",
    "options(repr.plot.width=3.5, repr.plot.height=3) # Set the initial plot area dimensions\n",
    "\n",
    "## Simulate samples\n",
    "set.seed(3456)\n",
    "df1 = data.frame(samples = c(sample(-5:-1, size = 6, replace = TRUE),\n",
    "                            sample(0:3, size = 38, replace = TRUE),\n",
    "                            sample(4:5, size = 6, replace = TRUE)))\n",
    "                             \n",
    "## Print the statistics\n",
    "print(paste('Mean: ', as.character(mean(df1$samples))))\n",
    "print(paste('Max: ', as.character(max(df1$samples)))) \n",
    "print(paste('Min: ', as.character(min(df1$samples))))       \n",
    "\n",
    "## Histogram of the samples\n",
    "ggplot(df1, aes(samples)) + geom_histogram(fill = 'blue', bins = 10) +\n",
    "       xlab('Samples') + ylab('frequency') +\n",
    "       ggtitle('Simulated Sampling Distribution')"
   ]
  },
  {
   "cell_type": "markdown",
   "metadata": {},
   "source": [
    "A question we might immediately ask is: \"how do students tend to like the class\"? In this case, possible ratings were between -5 and 5, with a \"neutral\" score of 0. In other words, if our average score is above zero, then students tend to enjoy the course. \n",
    "\n",
    "In the sample above, the mean score is above 0 (in other words, people liked the class in this data). If you had actually run this course and saw this data, it might lead you to believe that the overall mean rating for this class (i.e., not just the sample) is likely to be positive. \n",
    "\n",
    "There is an important point to be made, though: this is just a sample, and you want to make a statement not just about your sample but the whole population from which it came. In other words, you want to know how the class was received overall, but you only have access to a limited set of data. This often the case when analyzing data. \n",
    "\n",
    "So, how can you test your belief that your positive looking *sample* reflects the fact that the course does tend to get good evaluations, that your *population* mean (not just your sample mean) is positive?\n",
    "\n",
    "We start by defining two hypotheses:\n",
    "\n",
    "* The *null* hypothesis (**H<sub>0</sub>**) is that the population mean for all of the ratings is *not* higher than 0, and the fact that our sample mean is higher than this is due to random chance in our sample selection. \n",
    "* The *alternative* hypothesis (**H<sub>1</sub>**) is that the population mean is actually higher than 0, and the fact that our sample mean is higher than this means that our sample correctly detected this trend. \n",
    "\n",
    "You can write these as mutually exclusive expressions like this:\n",
    "\n",
    "\\begin{equation}H_{0}: \\mu \\le 0 \\\\ H_{1}: \\mu > 0 \\end{equation}\n",
    "\n",
    "So how do we test these hypotheses? Because they are mutually exclusive, if we can show the null is probably not true, then we are safe to reject it and conclude that people really do like our online course. But how do we do that?\n",
    "\n",
    "Well, if the *null* hypothesis is true, the sampling distribution for ratings with a sample size of 50 will be a normal distribution with a mean of 0. Run the following code to visualize this, with the mean of 0 shown as a yellow dashed line.\n",
    "\n",
    "*(The code just generates a normal distribution with a mean of 0 and a standard deviation that makes it approximate a sampling distribution of 50 random means between -5 and 5 - don't worry too much about the actual values, it's just to illustrate the key points!)*"
   ]
  },
  {
   "cell_type": "code",
   "execution_count": 57,
   "metadata": {},
   "outputs": [
    {
     "data": {},
     "metadata": {},
     "output_type": "display_data"
    },
    {
     "data": {
      "image/png": "[encoded data removed]",
      "text/plain": [
       "plot without title"
      ]
     },
     "metadata": {},
     "output_type": "display_data"
    }
   ],
   "source": [
    "## Create a sampling population\n",
    "set.seed(8789)\n",
    "df2 = data.frame(pop = rnorm(100000, mean = 0.005, sd = 1.15))\n",
    "\n",
    "## Histogram of the samples\n",
    "ggplot(df2, aes(pop)) + geom_histogram(fill = 'blue', bins = 100) +\n",
    "       geom_vline(xintercept = mean(df2$pop), color = 'yellow', linetype=\"dashed\", size = 0.8) +\n",
    "       xlab('Samples') + ylab('frequency') +\n",
    "       ggtitle('Simulated Population Distribution')"
   ]
  },
  {
   "cell_type": "markdown",
   "metadata": {},
   "source": [
    "This illustrates all the *sample* results you could get if the null hypothesis was true (that is, the rating population mean is actually 0). Note that if the null hypothesis is true, it's still *possible* to get a sample with a mean ranging from just over -5 to just under 5. The question is how *probable* is it to get a sample with a mean as high we did for our 50-rating sample under the null hypothesis? And how improbable would it *need* to be for us to conclude that the null is, in fact, a poor explanation for our data? \n",
    "\n",
    "Well, we measure distance from the mean in standard deviations, so we need to find out how many standard deviations above the null-hypothesized population mean of 0 our sample mean is, and measure the area under the distribution curve from this point on - that will give us the probability of observing a mean that is *at least* as high as our sample mean. We call the number of standard deviations above the mean where our sample mean is found the *test statistic* (or sometimes just *t-statistic*), and we call the area under the curve from this point (representing the probability of observing a sample mean this high or greater) the *p-value*.\n",
    "\n",
    "So the p-value tells us how probable our sample mean is when the null is true, but we need to set a threshold under which we consider this to be too improbable to be explained by random chance alone. We call this threshold our *critical value*, and we usually indicate it using the Greek letter alpha (**&alpha;**). You can use any value you think is appropriate for **&alpha;** - commonly a value of 0.05 (5%) is used, but there's nothing special about this value.\n",
    "\n",
    "We calculate the t-statistic by performing a statistical test. Technically, when the standard deviation of the population is known, we call it a *z-test* (because a *normal* distribution is often called a *z-distribution* and we measure variance from the mean in multiples of standard deviation known as *z-scores*). When the standard deviation of the population is not known, the test is referred to as a *t-test* and based on an adjusted version of a normal distribution called a *student's t distribution*, in which the distribution is \"flattened\" to allow for more sample variation depending on the sample size. Generally, with a sample size of 30 or more, a t-test is approximately equivalent to a z-test.\n",
    "\n",
    "Specifically, in this case we're performing a *single sample* test (we're comparing the mean from a single sample of ratings against the hypothesized population mean), and it's a *one-tailed* test (we're checking to see if the sample mean is *greater than* the null-hypothesized population mean - in other words, in the *right* tail of the distribution).\n",
    "\n",
    "The general formula for one-tailed, single-sample t-test is:\n",
    "\n",
    "\\begin{equation}t = \\frac{\\bar{x} - \\mu}{s \\div \\sqrt{n}} \\end{equation}\n",
    "\n",
    "In this formula, **x&#772;** is the sample mean, **&mu;** is the population mean, **s** is the standard deviation, and **n** is the sample size. You can think of the numerator of this equation (the expression at the top of the fraction) as a *signal*, and the denominator (the expression at the bottom of the fraction) as being *noise*. The signal measures the difference between the statistic and the null-hypothesized value, and the noise represents the random variance in the data in the form of standard deviation (or standard error). The t-statistic is the ratio of signal to noise, and measures the number of standard errors between the null-hypothesized value and the observed sample mean. A large value tells you that your \"result\" or \"signal\" was much larger than you would typically expect by chance.\n",
    "\n",
    "Fortunately, most programming languages used for statistical analysis include functions to perform a t-test, so you rarely need to manually calculate the results using the formula.\n",
    "\n",
    "Run the code below to run a single-sample t-test comparing our sample mean for ratings to a hypothesized population mean of 0, and visualize the resulting t-statistic on the normal distribution for the null hypothesis.\n"
   ]
  },
  {
   "cell_type": "code",
   "execution_count": 58,
   "metadata": {},
   "outputs": [
    {
     "name": "stdout",
     "output_type": "stream",
     "text": [
      "[1] \"t statistic:  2.10577976046989\"\n",
      "[1] \"p-value:  0.0176129869894619\"\n"
     ]
    },
    {
     "data": {},
     "metadata": {},
     "output_type": "display_data"
    },
    {
     "data": {
      "image/png": "[encoded data removed]",
      "text/plain": [
       "plot without title"
      ]
     },
     "metadata": {},
     "output_type": "display_data"
    }
   ],
   "source": [
    "## Perform the t test and extract statistics from the list\n",
    "t_test = t.test(df2$pop, alternative = \"greater\") # One sample t-test\n",
    "t_statistic = t_test$statistic\n",
    "p_value = t_test$p.value\n",
    "\n",
    "## Print some statistics\n",
    "print(paste('t statistic: ', as.character(t_statistic)))\n",
    "print(paste('p-value: ', as.character(p_value)))\n",
    "upper_95 = qnorm(0.95, mean = 0.01, sd = 1.15)\n",
    "cutoff = mean(df2$pop) + t_statistic * sd(df2$pop)\n",
    "\n",
    "## Histogram of the samples\n",
    "ggplot(df2, aes(pop)) + geom_histogram(fill = 'blue', bins = 100) +\n",
    "       geom_vline(xintercept = mean(df2$pop), color = 'yellow', linetype=\"dashed\", size = 0.8) +\n",
    "       geom_vline(xintercept = upper_95, color = 'red', linetype=\"dashed\", size = 0.8) +\n",
    "       geom_vline(xintercept = cutoff, color = 'magenta', linetype=\"dashed\", size = 0.8) +\n",
    "       xlab('Samples') + ylab('frequency') +\n",
    "       ggtitle('Simulated Population Distribution')"
   ]
  },
  {
   "cell_type": "markdown",
   "metadata": {},
   "source": [
    "In the plot produced by the code above, the yellow line shows the population mean for the null hypothesis. The area under the curve to the right of the red line represents the critical value of 0.05 (or 5%). The magenta line indicates how much higher the sample mean is compared to the hypothesized population mean. This is calculated as the t-statistic (which is printed above the plot) multiplied by the standard deviation. The area under the curve to the right of this encapsulates the p-value calculated by the test (which is also printed above the plot).\n",
    "\n",
    "So what should we conclude from these results?\n",
    "\n",
    "Well, if the p-value is smaller than our critical value of 0.05, that means that under the null hypothesis, the probability of observing a sample mean as high as we did by random chance is low. That's a good sign for us, because it means that our sample is unlikely under the null, and therefore the null is a poor explanation for the data. We can safely *reject* the null hypothesis in favor of the alternative hypothesis - there's enough evidence to suggest that the population mean for our class ratings is greater than 0.\n",
    "\n",
    "Conversely, if the p-value is greater than the critical value, we *fail to reject the null hypothesis* and conclude that the mean rating is not greater than 0. Note that we never actually *accept* the null hypothesis, we just conclude that there isn't enough evidence to reject it!"
   ]
  },
  {
   "cell_type": "markdown",
   "metadata": {},
   "source": [
    "## Two-Tailed Tests\n",
    "The previous test was an example of a one-tailed test in which the p-value represents the area under one tail of the distribution curve. In this case, the area in question is under the right tail because the alternative hypothesis we were trying to show was that the true population mean is *greater than* the mean of the null hypothesis scenario.\n",
    "\n",
    "Suppose we restated our hypotheses like this:\n",
    "* The *null* hypothesis (**H<sub>0</sub>**) is that the population mean for all of the ratings is 0, and the fact that our sample mean is higher or lower than this can be explained by random chance in our sample selection.\n",
    "* The *alternative* hypothesis (**H<sub>1</sub>**) is that the population mean is not equal to 0.\n",
    "\n",
    "We can write these as mutually exclusive expressions like this:\n",
    "\n",
    "\\begin{equation}H_{0}: \\mu = 0 \\\\ H_{1}: \\mu \\neq 0 \\end{equation}\n",
    "\n",
    "Why would we do this? Well, in the test we performed earlier, we could only reject the null hypothesis if we had really *positive* ratings, but what if our sample data looked really *negative*? It would be a mistake to turn around and run a one-tailed test the other way, for negative ratings. Instead, we conduct a test designed for such a question: a two-tailed test.\n",
    "\n",
    "In a two-tailed test, we are willing to reject the null hypothesis if the result is significantly *greater* or *lower* than the null hypothesis. Our critical value (5%) is therefore split in two: the top 2.5% of the curve and the bottom 2.5% of the curve. As long as our test statistic is in that region, we are in the extreme 5% of values (p < .05) and we reject the null hypothesis. In other words, our p-value now needs to be below .025, but it can be in either tail of the distribution. For convenience, we usually \"double\" the p-value in a two-tailed test so that we don't have to remember this rule and still compare against .05 (this is known as a \"two-tailed p-value\"). In fact, it is assumed this has been done in all statistical analyses unless stated otherwise. \n",
    "\n",
    "The following code shows the results of a two-tailed, single sample test of our class ratings. Note that the **alternative = \"two.sided\"** argument for the t-test function.\n"
   ]
  },
  {
   "cell_type": "code",
   "execution_count": 60,
   "metadata": {},
   "outputs": [
    {
     "name": "stdout",
     "output_type": "stream",
     "text": [
      "[1] \"t statistic:  2.10577976046989\"\n",
      "[1] \"p-value:  0.0352259739789239\"\n"
     ]
    },
    {
     "data": {},
     "metadata": {},
     "output_type": "display_data"
    },
    {
     "data": {
      "image/png": "[encoded data removed]",
      "text/plain": [
       "plot without title"
      ]
     },
     "metadata": {},
     "output_type": "display_data"
    }
   ],
   "source": [
    "## Perform the t test and extract statistics from the list\n",
    "t_test = t.test(df2$pop, alternative = \"two.sided\") # Two sample t-test\n",
    "t_statistic = t_test$statistic\n",
    "p_value = t_test$p.value\n",
    "\n",
    "## Print some statistics\n",
    "print(paste('t statistic: ', as.character(t_statistic)))\n",
    "print(paste('p-value: ', as.character(p_value)))\n",
    "upper_95 = qnorm(0.95, mean = 0.01, sd = 1.15)\n",
    "lower_95 = qnorm(0.05, mean = 0.01, sd = 1.15)\n",
    "upper_cutoff = mean(df2$pop) + t_statistic * sd(df2$pop)\n",
    "lower_cutoff = mean(df2$pop) - t_statistic * sd(df2$pop)\n",
    "\n",
    "## Histogram of the samples\n",
    "ggplot(df2, aes(pop)) + geom_histogram(fill = 'blue', bins = 100) +\n",
    "       geom_vline(xintercept = mean(df2$pop), color = 'yellow', linetype=\"dashed\", size = 0.8) +\n",
    "       geom_vline(xintercept = upper_95, color = 'red', linetype=\"dashed\", size = 0.8) +\n",
    "       geom_vline(xintercept = upper_cutoff, color = 'magenta', linetype=\"dashed\", size = 0.8) +\n",
    "       geom_vline(xintercept = lower_95, color = 'red', linetype=\"dashed\", size = 0.8) +\n",
    "       geom_vline(xintercept = lower_cutoff, color = 'magenta', linetype=\"dashed\", size = 0.8) +\n",
    "       xlab('Samples') + ylab('frequency') +\n",
    "       ggtitle('Simulated Population Distribution')"
   ]
  },
  {
   "cell_type": "markdown",
   "metadata": {},
   "source": [
    "Here we see that our 2-tailed p-value was clearly less than 0.05; so We reject the null hypothesis.\n",
    "\n",
    "You may note that doubling the p-value in a two-tailed test makes it harder to reject the null. This is true; we require more evidence because we are asking a more complicated question. "
   ]
  },
  {
   "cell_type": "markdown",
   "metadata": {},
   "source": [
    "\n",
    "\n",
    "## Two-Sample Tests\n",
    "In both of the previous examples, we compared a statistic from a single data sample to a null-hypothesized population parameter. Sometimes you might want to compare two samples against one another.\n",
    "\n",
    "For example, let's suppose that some of the students who took the statistics course had previously studied mathematics, while other students had no previous math experience. You might hypothesize that the grades of students who had previously studied math are significantly higher than the grades of students who had not.\n",
    "\n",
    "* The *null* hypothesis (**H<sub>0</sub>**) is that the population mean grade for students with previous math studies is not greater than the population mean grade for students without any math experience, and the fact that our sample mean for math students is higher than our sample mean for non-math students can be explained by random chance in our sample selection.\n",
    "* The *alternative* hypothesis (**H<sub>1</sub>**) is that the population mean grade for students with previous math studies is greater than the population mean grade for students without any math experience.\n",
    "\n",
    "We can write these as mutually exclusive expressions like this:\n",
    "\n",
    "\\begin{equation}H_{0}: \\mu_{1} \\le \\mu_{2} \\\\ H_{1}: \\mu_{1} > \\mu_{2} \\end{equation}\n",
    "\n",
    "This is a one-sided test that compares two samples. To perform this test, we'll take two samples. One sample contains 100 grades for students who have previously studied math, and the other sample contains 100 grades for students with no math experience.\n",
    "\n",
    "We won't go into the test-statistic formula here, but it essentially the same as the one above, adapted to include information from both samples. We can easily test this in most software packages using the command for an \"independent samples\" t-test:\n"
   ]
  },
  {
   "cell_type": "code",
   "execution_count": 70,
   "metadata": {},
   "outputs": [
    {
     "name": "stdout",
     "output_type": "stream",
     "text": [
      "[1] \"non-math sample mean: 66.1356088629543\"\n",
      "[1] \"math sample mean: 66.6386798029947\"\n",
      "[1] \"t statistic:  -2.52208952573496\"\n",
      "[1] \"p-value:  0.0124560393615295\"\n"
     ]
    },
    {
     "data": {},
     "metadata": {},
     "output_type": "display_data"
    },
    {
     "data": {
      "image/png": "[encoded data removed]",
      "text/plain": [
       "plot without title"
      ]
     },
     "metadata": {},
     "output_type": "display_data"
    }
   ],
   "source": [
    "## Simulate the two samples and print statistics\n",
    "set.seed(123)\n",
    "two_sample = data.frame(nonMath = rnorm(100, mean = 66.0, sd = 1.5),\n",
    "                        math = rnorm(100, mean = 66.8, sd = 1.5))\n",
    "print(paste(\"non-math sample mean:\", as.character(mean(two_sample$nonMath))))\n",
    "print(paste(\"math sample mean:\", as.character(mean(two_sample$math))))\n",
    "\n",
    "## Two sample t-test\n",
    "t_test = t.test(two_sample$nonMath, two_sample$math, alternative = \"two.sided\") # Two sample t-test\n",
    "t_statistic = t_test$statistic\n",
    "p_value = t_test$p.value\n",
    "\n",
    "## Print some statistics\n",
    "print(paste('t statistic: ', as.character(t_statistic)))\n",
    "print(paste('p-value: ', as.character(p_value)))\n",
    "\n",
    "## Sample difference of means\n",
    "df3 = data.frame(diff_means = sapply(1:100000, \n",
    "                                     function(x) (mean(rnorm(100, mean = 66.8, sd = 1.5)) - \n",
    "                                                  mean(rnorm(100, mean = 66.0, sd = 1.5)))))\n",
    "upper_95 = qnorm(0.95, mean = mean(df3$diff_means), sd = sd(df3$diff_means))\n",
    "upper_cutoff = mean(df3$diff_means) + abs(t_statistic) * sd(df3$diff_means)\n",
    "\n",
    "## Histogram of the difference of means\n",
    "ggplot(df3, aes(diff_means)) + geom_histogram(fill = 'blue', bins = 100) +\n",
    "       geom_vline(xintercept = mean(df3$diff_means), color = 'yellow', linetype=\"dashed\", size = 0.8) +\n",
    "       geom_vline(xintercept = upper_95, color = 'red', linetype=\"dashed\", size = 0.8) +\n",
    "       geom_vline(xintercept = upper_cutoff, color = 'magenta', linetype=\"dashed\", size = 0.8) +\n",
    "       xlab('Difference of means') + ylab('frequency') +\n",
    "       ggtitle('Simulated difference of means')"
   ]
  },
  {
   "cell_type": "markdown",
   "metadata": {},
   "source": [
    "You can interpret the results of this test the same way as for the previous single-sample, one-tailed test. If the p-value (the area under the curve to the right of the magenta line) is smaller than our critical value (**&alpha;**) of 0.05 (the area under the curve to the right of the red line), then the difference can't be explained by chance alone; so we can reject the null hypothesis and conclude that students with previous math experience perform better on average than students without.\n",
    "\n",
    "Alternatively, you could always compare two groups and *not* specify a direction (i.e., two-tailed). If you did this, as above, you could simply double the p-value (now .001), and you would see you could still reject the null hypothesis."
   ]
  },
  {
   "cell_type": "markdown",
   "metadata": {},
   "source": [
    "## Paired Tests\n",
    "In the two-sample test we conduced previously, the samples were independent; in other words there was no relationship between the observations in the first sample and the observations in the second sample. Sometimes you might want to compare statistical differences between related observations before and after some change that you believe might influence the data.\n",
    "\n",
    "For example, suppose our students took a mid-term exam, and later took and end-of-term exam. You might hypothesise that the students will improve their grades in the end-of-term exam, after they've undertaken additional study. We could test for a general improvement on average across all students with a two-sample independent test, but a more appropriate test would be to compare the two test scores for each individual student.\n",
    "\n",
    "To accomplish this, we need to create two samples; one for scores in the mid-term, exam, the other for scores in the end-of-term exam. Then we need to compare the samples in such a way that each pair of observations for the same student are compared to one another. \n",
    "\n",
    "This is known as a paired-samples t-test or a dependent-samples t-test. Technically, it tests whether the *changes* tend to be in the positive or negative direction."
   ]
  },
  {
   "cell_type": "code",
   "execution_count": 74,
   "metadata": {},
   "outputs": [
    {
     "name": "stdout",
     "output_type": "stream",
     "text": [
      "[1] \"non-math sample mean: 59.4356088629543\"\n",
      "[1] \"math sample mean: 59.8886798029947\"\n",
      "[1] \"t statistic:  -2.21725993509654\"\n",
      "[1] \"p-value:  0.0288926743783595\"\n"
     ]
    },
    {
     "data": {},
     "metadata": {},
     "output_type": "display_data"
    },
    {
     "data": {
      "image/png": "[encoded data removed]",
      "text/plain": [
       "plot without title"
      ]
     },
     "metadata": {},
     "output_type": "display_data"
    }
   ],
   "source": [
    "## Simulate the two samples and print statistics\n",
    "set.seed(123)\n",
    "two_sample = data.frame(nonMath = rnorm(100, mean = 59.30, sd = 1.5),\n",
    "                        math = rnorm(100, mean = 60.05, sd = 1.5))\n",
    "print(paste(\"non-math sample mean:\", as.character(mean(two_sample$nonMath))))\n",
    "print(paste(\"math sample mean:\", as.character(mean(two_sample$math))))\n",
    "\n",
    "## Two sample t-test\n",
    "t_test = t.test(two_sample$nonMath, two_sample$math, \n",
    "                alternative = \"two.sided\", paired = TRUE) # Two sample t-test\n",
    "t_statistic = t_test$statistic\n",
    "p_value = t_test$p.value\n",
    "\n",
    "## Print some statistics\n",
    "print(paste('t statistic: ', as.character(t_statistic)))\n",
    "print(paste('p-value: ', as.character(p_value)))\n",
    "\n",
    "## Sample difference of means\n",
    "df3 = data.frame(diff_means = sapply(1:100000, \n",
    "                                     function(x) (mean(rnorm(100, mean = 60.05, sd = 1.5)) - \n",
    "                                                  mean(rnorm(100, mean = 59.30, sd = 1.5)))))\n",
    "upper_95 = qnorm(0.95, mean = mean(df3$diff_means), sd = sd(df3$diff_means))\n",
    "upper_cutoff = mean(df3$diff_means) + abs(t_statistic) * sd(df3$diff_means)\n",
    "\n",
    "## Histogram of the difference of means\n",
    "ggplot(df3, aes(diff_means)) + geom_histogram(fill = 'blue', bins = 100) +\n",
    "       geom_vline(xintercept = mean(df3$diff_means), color = 'yellow', linetype=\"dashed\", size = 0.8) +\n",
    "       geom_vline(xintercept = upper_95, color = 'red', linetype=\"dashed\", size = 0.8) +\n",
    "       geom_vline(xintercept = upper_cutoff, color = 'magenta', linetype=\"dashed\", size = 0.8) +\n",
    "       xlab('Difference of means') + ylab('frequency') +\n",
    "       ggtitle('Simulated difference of means')"
   ]
  },
  {
   "cell_type": "markdown",
   "metadata": {},
   "source": [
    "In our sample, we see that scores did in fact improve, so we can we reject the null hypothesis."
   ]
  }
 ],
 "metadata": {
  "kernelspec": {
   "display_name": "R",
   "language": "R",
   "name": "ir"
  },
  "language_info": {
   "codemirror_mode": "r",
   "file_extension": ".r",
   "mimetype": "text/x-r-source",
   "name": "R",
   "pygments_lexer": "r",
   "version": "3.5.0"
  }
 },
 "nbformat": 4,
 "nbformat_minor": 2
}
