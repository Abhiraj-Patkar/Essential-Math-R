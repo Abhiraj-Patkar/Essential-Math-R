{
 "cells": [
  {
   "cell_type": "markdown",
   "metadata": {},
   "source": [
    "# Comparing Data\n",
    "You'll often want to compare data in your dataset, to see if you can discern trends or relationships.\n",
    "\n",
    "## Univariate Data\n",
    "*Univariate* data is data that consist of only one variable or feature. While it may initially seem as though there's not much we can do to analyze univariate data, we've already seen that we can explore its distribution in terms of measures of central tendency and measures of variance. We've also seen how we can visualize this distribution using histograms and box plots.\n",
    "\n",
    "Here's a reminder of how you can visualize the distribution of univariate data, using our student grade data with a few additional observations in the sample:"
   ]
  },
  {
   "cell_type": "code",
   "execution_count": 2,
   "metadata": {},
   "outputs": [
    {
     "data": {},
     "metadata": {},
     "output_type": "display_data"
    },
    {
     "data": {
      "image/png": "[encoded data removed]",
      "text/plain": [
       "plot without title"
      ]
     },
     "metadata": {},
     "output_type": "display_data"
    }
   ],
   "source": [
    "library(ggplot2)\n",
    "library(repr)\n",
    "options(repr.plot.width=3.5, repr.plot.height=3) # Set the initial plot area dimensions\n",
    "\n",
    "## Create a data frame\n",
    "df1 = data.frame(Name = c('Dan', 'Joann', 'Pedro', 'Rosie', 'Ethan', 'Vicky', \n",
    "                          'Frederic', 'Jimmie', 'Rhonda', 'Giovanni', 'Francesca', \n",
    "                          'Rajab', 'Naiyana', 'Kian', 'Jenny'),\n",
    "                  Salary = c(50000,54000,50000,189000,55000,40000,59000,42000,47000,\n",
    "                             78000,119000,95000,49000,29000,130000),\n",
    "                   Hours = c(41,40,36,17,35,39,40,45,41,35,30,33,38,47,24),\n",
    "                   Grade = c(50,50,46,95,50,5,57,42,26,72,78,60,40,17,85))\n",
    "\n",
    "ggplot(df1, aes(x = 1, y = Grade)) +\n",
    "       geom_boxplot() +\n",
    "       ylab('Grade') +\n",
    "       ggtitle('Grade Distribution')"
   ]
  },
  {
   "cell_type": "markdown",
   "metadata": {},
   "source": [
    "## Bivariate and Multivariate Data\n",
    "It can often be useful to compare *bivariate* data; in other words, compare two variables, or even more (in which case we call it *multivariate* data).\n",
    "\n",
    "For example, our student data includes three numeric variables for each student: their salary, the number of hours they work per week, and their final school grade. Run the following code to the values in the data frame:"
   ]
  },
  {
   "cell_type": "code",
   "execution_count": 3,
   "metadata": {},
   "outputs": [
    {
     "data": {
      "text/html": [
       "<table>\n",
       "<thead><tr><th scope=col>Name</th><th scope=col>Salary</th><th scope=col>Hours</th><th scope=col>Grade</th></tr></thead>\n",
       "<tbody>\n",
       "\t<tr><td>Dan      </td><td> 50000   </td><td>41       </td><td>50       </td></tr>\n",
       "\t<tr><td>Joann    </td><td> 54000   </td><td>40       </td><td>50       </td></tr>\n",
       "\t<tr><td>Pedro    </td><td> 50000   </td><td>36       </td><td>46       </td></tr>\n",
       "\t<tr><td>Rosie    </td><td>189000   </td><td>17       </td><td>95       </td></tr>\n",
       "\t<tr><td>Ethan    </td><td> 55000   </td><td>35       </td><td>50       </td></tr>\n",
       "\t<tr><td>Vicky    </td><td> 40000   </td><td>39       </td><td> 5       </td></tr>\n",
       "\t<tr><td>Frederic </td><td> 59000   </td><td>40       </td><td>57       </td></tr>\n",
       "\t<tr><td>Jimmie   </td><td> 42000   </td><td>45       </td><td>42       </td></tr>\n",
       "\t<tr><td>Rhonda   </td><td> 47000   </td><td>41       </td><td>26       </td></tr>\n",
       "\t<tr><td>Giovanni </td><td> 78000   </td><td>35       </td><td>72       </td></tr>\n",
       "\t<tr><td>Francesca</td><td>119000   </td><td>30       </td><td>78       </td></tr>\n",
       "\t<tr><td>Rajab    </td><td> 95000   </td><td>33       </td><td>60       </td></tr>\n",
       "\t<tr><td>Naiyana  </td><td> 49000   </td><td>38       </td><td>40       </td></tr>\n",
       "\t<tr><td>Kian     </td><td> 29000   </td><td>47       </td><td>17       </td></tr>\n",
       "\t<tr><td>Jenny    </td><td>130000   </td><td>24       </td><td>85       </td></tr>\n",
       "</tbody>\n",
       "</table>\n"
      ],
      "text/latex": [
       "\\begin{tabular}{r|llll}\n",
       " Name & Salary & Hours & Grade\\\\\n",
       "\\hline\n",
       "\t Dan       &  50000    & 41        & 50       \\\\\n",
       "\t Joann     &  54000    & 40        & 50       \\\\\n",
       "\t Pedro     &  50000    & 36        & 46       \\\\\n",
       "\t Rosie     & 189000    & 17        & 95       \\\\\n",
       "\t Ethan     &  55000    & 35        & 50       \\\\\n",
       "\t Vicky     &  40000    & 39        &  5       \\\\\n",
       "\t Frederic  &  59000    & 40        & 57       \\\\\n",
       "\t Jimmie    &  42000    & 45        & 42       \\\\\n",
       "\t Rhonda    &  47000    & 41        & 26       \\\\\n",
       "\t Giovanni  &  78000    & 35        & 72       \\\\\n",
       "\t Francesca & 119000    & 30        & 78       \\\\\n",
       "\t Rajab     &  95000    & 33        & 60       \\\\\n",
       "\t Naiyana   &  49000    & 38        & 40       \\\\\n",
       "\t Kian      &  29000    & 47        & 17       \\\\\n",
       "\t Jenny     & 130000    & 24        & 85       \\\\\n",
       "\\end{tabular}\n"
      ],
      "text/markdown": [
       "\n",
       "Name | Salary | Hours | Grade | \n",
       "|---|---|---|---|---|---|---|---|---|---|---|---|---|---|---|\n",
       "| Dan       |  50000    | 41        | 50        | \n",
       "| Joann     |  54000    | 40        | 50        | \n",
       "| Pedro     |  50000    | 36        | 46        | \n",
       "| Rosie     | 189000    | 17        | 95        | \n",
       "| Ethan     |  55000    | 35        | 50        | \n",
       "| Vicky     |  40000    | 39        |  5        | \n",
       "| Frederic  |  59000    | 40        | 57        | \n",
       "| Jimmie    |  42000    | 45        | 42        | \n",
       "| Rhonda    |  47000    | 41        | 26        | \n",
       "| Giovanni  |  78000    | 35        | 72        | \n",
       "| Francesca | 119000    | 30        | 78        | \n",
       "| Rajab     |  95000    | 33        | 60        | \n",
       "| Naiyana   |  49000    | 38        | 40        | \n",
       "| Kian      |  29000    | 47        | 17        | \n",
       "| Jenny     | 130000    | 24        | 85        | \n",
       "\n",
       "\n"
      ],
      "text/plain": [
       "   Name      Salary Hours Grade\n",
       "1  Dan        50000 41    50   \n",
       "2  Joann      54000 40    50   \n",
       "3  Pedro      50000 36    46   \n",
       "4  Rosie     189000 17    95   \n",
       "5  Ethan      55000 35    50   \n",
       "6  Vicky      40000 39     5   \n",
       "7  Frederic   59000 40    57   \n",
       "8  Jimmie     42000 45    42   \n",
       "9  Rhonda     47000 41    26   \n",
       "10 Giovanni   78000 35    72   \n",
       "11 Francesca 119000 30    78   \n",
       "12 Rajab      95000 33    60   \n",
       "13 Naiyana    49000 38    40   \n",
       "14 Kian       29000 47    17   \n",
       "15 Jenny     130000 24    85   "
      ]
     },
     "metadata": {},
     "output_type": "display_data"
    }
   ],
   "source": [
    "df1"
   ]
  },
  {
   "cell_type": "markdown",
   "metadata": {},
   "source": [
    "Let's suppose you want to compare the distributions of these variables. You might simply create a boxplot for each variable, like this:"
   ]
  },
  {
   "cell_type": "code",
   "execution_count": 16,
   "metadata": {},
   "outputs": [
    {
     "data": {},
     "metadata": {},
     "output_type": "display_data"
    },
    {
     "data": {
      "image/png": "[encoded data removed]",
      "text/plain": [
       "plot without title"
      ]
     },
     "metadata": {},
     "output_type": "display_data"
    }
   ],
   "source": [
    "ggplot(df1) +\n",
    "       geom_boxplot(aes(x = 'Grade', y = Grade))  +\n",
    "       geom_boxplot(aes(x = 'Hours', y = Hours)) +\n",
    "       geom_boxplot(aes(x = 'Salary', y = Salary)) +\n",
    "       ggtitle('Distributions') + ylab('Value')"
   ]
  },
  {
   "cell_type": "markdown",
   "metadata": {},
   "source": [
    "Hmm, that's not particularly useful is it?\n",
    "\n",
    "The problem is that the data are all measured in different scales. Salaries are typically in tens of thousands, while hours and grades are in single or double digits.\n",
    "\n",
    "### Normalizing Data\n",
    "When you need to compare data in different units of measurement, you can *normalize* or *scale* the data so that the values are measured in the same proportional scale. For example, you can use a MinMax scaler to normalize multiple numeric variables to a proportional value between 0 and 1 based on their minimum and maximum values. It is easy to write a MinMax normalizing function in R:"
   ]
  },
  {
   "cell_type": "code",
   "execution_count": 17,
   "metadata": {},
   "outputs": [
    {
     "data": {},
     "metadata": {},
     "output_type": "display_data"
    },
    {
     "data": {
      "image/png": "[encoded data removed]",
      "text/plain": [
       "plot without title"
      ]
     },
     "metadata": {},
     "output_type": "display_data"
    }
   ],
   "source": [
    "## Simple MinMax function\n",
    "min_max = function(x) (x - mean(x))/(max(x) - min(x))\n",
    "\n",
    "## Create a data frame\n",
    "df_min_max = df1\n",
    "\n",
    "## Apply the MinMax function\n",
    "df_min_max[,c('Grade','Hours','Salary')] = lapply(df1[,c('Grade','Hours','Salary')], min_max)\n",
    "\n",
    "## PLot the result\n",
    "ggplot(df_min_max) +\n",
    "       geom_boxplot(aes(x = 'Grade', y = Grade))  +\n",
    "       geom_boxplot(aes(x = 'Hours', y = Hours)) +\n",
    "       geom_boxplot(aes(x = 'Salary', y = Salary)) +\n",
    "       ggtitle('Distributions') + ylab('Value')"
   ]
  },
  {
   "cell_type": "markdown",
   "metadata": {},
   "source": [
    "Now the numbers on the y axis aren't particularly meaningful, but they're on a similar scale."
   ]
  },
  {
   "cell_type": "markdown",
   "metadata": {},
   "source": [
    "### Comparing Bivariate Data with a Scatter Plot\n",
    "When you need to compare two numeric values, a scatter plot can be a great way to see if there is any apparent relationship between them so that changes in the value of one variable affect the value of the other.\n",
    "\n",
    "Let's look at a scatter plot of *Salary* and *Grade*:"
   ]
  },
  {
   "cell_type": "code",
   "execution_count": 20,
   "metadata": {},
   "outputs": [
    {
     "data": {},
     "metadata": {},
     "output_type": "display_data"
    },
    {
     "data": {
      "image/png": "[encoded data removed]",
      "text/plain": [
       "plot without title"
      ]
     },
     "metadata": {},
     "output_type": "display_data"
    }
   ],
   "source": [
    "ggplot(df1, aes(Grade, Salary)) +\n",
    "       geom_point(color = 'blue', alpha = 0.5) +\n",
    "       ggtitle('Salary vs. Grade')"
   ]
  },
  {
   "cell_type": "markdown",
   "metadata": {},
   "source": [
    "Look closely at the scatter plot. Can you see a diagonal trend in the plotted points, rising up to the right? It looks as though the higher the student's grade is, the higher their salary is.\n",
    "\n",
    "You can see the trend more clearly by adding a *line of best fit* (sometimes called a *trendline*) to the plot:"
   ]
  },
  {
   "cell_type": "code",
   "execution_count": 23,
   "metadata": {},
   "outputs": [
    {
     "data": {},
     "metadata": {},
     "output_type": "display_data"
    },
    {
     "data": {
      "image/png": "[encoded data removed]",
      "text/plain": [
       "plot without title"
      ]
     },
     "metadata": {},
     "output_type": "display_data"
    }
   ],
   "source": [
    "ggplot(df1, aes(Grade, Salary)) +\n",
    "       geom_point(color = 'blue', alpha = 0.5) +\n",
    "       geom_smooth(method='lm', se = FALSE) +\n",
    "       ggtitle('Salary vs. Grade')"
   ]
  },
  {
   "cell_type": "markdown",
   "metadata": {},
   "source": [
    "The line of best fit makes it clearer that there is some apparent *collinearity* between these variables (the relationship is *collinear* if one variable's value increases or decreases in line with the other).\n",
    "\n",
    "### Correlation\n",
    "The apparently collinear relationship you saw in the scatter plot can be verified by calculating a statistic that quantifies the relationship between the two variables. The statistic usually used to do this is *correlation*, though there is also a statistic named *covariance* that is sometimes used. Correlation is generally preferred because the value it produces is more easily interpreted.\n",
    "\n",
    "A correlation value is always a number between ***-1*** and ***1***.\n",
    "- A positive value indicates a positive correlation (as the value of variable *x* increases, so does the value of variable *y*).\n",
    "- A negative value indicates a negative correlation (as the value of variable *x* increases, the value of variable *y* decreases).\n",
    "- The closer to zero the correlation value is, the weaker the correlation between *x* and *y*.\n",
    "- A correlation of exactly zero means there is no apparent relationship between the variables.\n",
    "\n",
    "The formula to calculate correlation is:\n",
    "\n",
    "\\begin{equation}r_{x,y} = \\frac{\\displaystyle\\sum_{i=1}^{n} (x_{i} -\\bar{x})(y_{i} -\\bar{y})}{\\sqrt{\\displaystyle\\sum_{i=1}^{n} (x_{i} -\\bar{x})^{2}(y_{i} -\\bar{y})^{2}}}\\end{equation}\n",
    "\n",
    "**r<sub>x, y</sub>** is the notation for the *correlation between x and y*.\n",
    "\n",
    "The formula is pretty complex, but fortunately R makes it very easy to calculate the correlation matrix using the ***cor*** function. The off-diagonal values of the correlation matrix are the correlation coefficients between the variables."
   ]
  },
  {
   "cell_type": "code",
   "execution_count": 26,
   "metadata": {},
   "outputs": [
    {
     "data": {
      "text/html": [
       "0.858729519031511"
      ],
      "text/latex": [
       "0.858729519031511"
      ],
      "text/markdown": [
       "0.858729519031511"
      ],
      "text/plain": [
       "[1] 0.8587295"
      ]
     },
     "metadata": {},
     "output_type": "display_data"
    }
   ],
   "source": [
    "cor(df1[,c('Grade','Salary')])[1,2]"
   ]
  },
  {
   "cell_type": "markdown",
   "metadata": {},
   "source": [
    "In this case, the correlation is just over 0.8; making it a reasonably high positive correlation that indicates salary increases in line with grade.\n",
    "\n",
    "Let's see if we can find a correlation between *Grade* and *Hours*:"
   ]
  },
  {
   "cell_type": "code",
   "execution_count": 28,
   "metadata": {},
   "outputs": [
    {
     "data": {
      "text/html": [
       "-0.810911905845978"
      ],
      "text/latex": [
       "-0.810911905845978"
      ],
      "text/markdown": [
       "-0.810911905845978"
      ],
      "text/plain": [
       "[1] -0.8109119"
      ]
     },
     "metadata": {},
     "output_type": "display_data"
    },
    {
     "data": {},
     "metadata": {},
     "output_type": "display_data"
    },
    {
     "data": {
      "image/png": "[encoded data removed]",
      "text/plain": [
       "plot without title"
      ]
     },
     "metadata": {},
     "output_type": "display_data"
    }
   ],
   "source": [
    "cor(df1[,c('Grade','Hours')])[1,2]\n",
    "\n",
    "ggplot(df1, aes(Hours, Grade)) +\n",
    "       geom_point(color = 'blue', alpha = 0.5) +\n",
    "       geom_smooth(method='lm', se = FALSE) +\n",
    "       ggtitle('Grade vs. Hours')"
   ]
  },
  {
   "cell_type": "markdown",
   "metadata": {},
   "source": [
    "In this case, the correlation value is just under -0.8; meaning a fairly strong negative correlation in which the number of hours worked decreases as the grade increases. The line of best fit on the scatter plot corroborates this statistic.\n",
    "\n",
    "It's important to remember that *correlation* **is not** *causation*. In other words, even though there's an apparent relationship, you can't say for sure that one variable is the cause of the other. In this example, we can say that students who achieved higher grades tend to work shorter hours; but we ***can't*** say that those who work shorter hours do so *because* they achieved a high grade!"
   ]
  },
  {
   "cell_type": "markdown",
   "metadata": {},
   "source": [
    "## Least Squares Regression\n",
    "In the previous examples, we drew a line on a scatter plot to show the *best fit* of the data. In many cases, your initial attempts to identify any collinearity might involve adding this kind of line by hand (or just mentally visualizing it); but as you may suspect from the use of the ggplot2 **geom_smooth** function in the code above, there are ways to calculate the coordinates for this line mathematically. One of the most commonly used techniques is *least squares regression*, and that's what we'll look at now.\n",
    "\n",
    "Cast your mind back to when you were learning how to solve linear equations, and recall that the *slope-intercept* form of a linear equation looks like this:\n",
    "\n",
    "\\begin{equation}y = mx + b\\end{equation}\n",
    "\n",
    "In this equation, *y* and *x* are the coordinate variables, *m* is the slope of the line, and *b* is the y-intercept of the line.\n",
    "\n",
    "In the case of our scatter plot for our former-student's working hours, we already have our values for *x* (*Grade*) and *y* (*Hours*), so we just need to calculate the intercept and slope of the straight line that lies closest to those points. Then we can form a linear equation that calculates the a new *y* value on that line for each of our *x* (*Grade*) values - to avoid confusion, we'll call this new *y* value *f(x)* (because it's the output from a linear equation function based on *x*). The difference between the original *y* (*Hours*) value and the *f(x)* value is the *error* between our regression line of best fit and the actual *Hours* worked by the former student. Our goal is to calculate the slope and intercept for a line with the lowest overall error.\n",
    "\n",
    "Specifically, we define the overall error by taking the error for each point, squaring it, and adding all the squared errors together. The line of best fit is the line that gives us the lowest value for the sum of the squared errors - hence the name *least squares regression*.\n",
    "\n",
    "So how do we accomplish this? First we need to calculate the slope (*m*), which we do using this formula (in which *n* is the number of observations in our data sample):\n",
    "\n",
    "\\begin{equation}m = \\frac{n(\\sum{xy}) - (\\sum{x})(\\sum{y})}{n(\\sum{x^{2}})-(\\sum{x})^{2}}\\end{equation}\n",
    "\n",
    "After we've calculated the slope (*m*), we can use is to calculate the intercept (*b*) like this:\n",
    "\n",
    "\\begin{equation}b = \\frac{\\sum{y} - m(\\sum{x})}{n}\\end{equation}\n",
    "\n",
    "Let's look at a simple example that compares the number of hours of nightly study each student undertook with the final grade the student achieved:\n",
    "\n",
    "| Name     | Study | Grade |\n",
    "|----------|-------|-------|\n",
    "| Dan      | 1     | 50    |\n",
    "| Joann    | 0.75  | 50    |\n",
    "| Pedro    | 0.6   | 46    |\n",
    "| Rosie    | 2     | 95    |\n",
    "| Ethan    | 1     | 50    |\n",
    "| Vicky    | 0.2   | 5     |\n",
    "| Frederic | 1.2   | 57    |\n",
    "\n",
    "First, let's take each *x* (Study) and *y* (Grade) pair and calculate *x<sup>2</sup>* and *xy*, because we're going to need these to work out the slope:\n",
    "\n",
    "| Name     | Study | Grade | x<sup>2</sup> | xy   |\n",
    "|----------|-------|-------|------|------|\n",
    "| Dan      | 1     | 50    | 1    | 50   |\n",
    "| Joann    | 0.75  | 50    | 0.55 | 37.5 |\n",
    "| Pedro    | 0.6   | 46    | 0.36 | 27.6 |\n",
    "| Rosie    | 2     | 95    | 4    | 190  |\n",
    "| Ethan    | 1     | 50    | 1    | 50   |\n",
    "| Vicky    | 0.2   | 5     | 0.04 | 1    |\n",
    "| Frederic | 1.2   | 57    | 1.44 | 68.4 |\n",
    "\n",
    "Now we'll sum *x*, *y*, *x<sup>2</sup>*, and *xy*:\n",
    "\n",
    "| Name     | Study | Grade | x<sup>2</sup> | xy   |\n",
    "|----------|-------|-------|------|------|\n",
    "| Dan      | 1     | 50    | 1    | 50   |\n",
    "| Joann    | 0.75  | 50    | 0.55 | 37.5 |\n",
    "| Pedro    | 0.6   | 46    | 0.36 | 27.6 |\n",
    "| Rosie    | 2     | 95    | 4    | 190  |\n",
    "| Ethan    | 1     | 50    | 1    | 50   |\n",
    "| Vicky    | 0.2   | 5     | 0.04 | 1    |\n",
    "| Frederic | 1.2   | 57    | 1.44 | 68.4 |\n",
    "| **&Sigma;**      | **6.75**  | **353**   | **8.4025**| **424.5**  |\n",
    "\n",
    "OK, now we're ready to calculate the slope for our *7* observations:\n",
    "\n",
    "\\begin{equation}m = \\frac{(7\\times 424.5) - (6.75\\times353)}{(7\\times8.4025)-6.75^{2}}\\end{equation}\n",
    "\n",
    "Which is:\n",
    "\n",
    "\\begin{equation}m = \\frac{2971.5 - 2382.75}{58.8175-45.5625}\\end{equation}\n",
    "\n",
    "So:\n",
    "\n",
    "\\begin{equation}m = \\frac{588.75}{13.255} \\approx 44.4172\\end{equation}\n",
    "\n",
    "Now we can calculate *b*:\n",
    "\n",
    "\\begin{equation}b = \\frac{353 - (44.4172\\times6.75)}{7}\\end{equation}\n",
    "\n",
    "Which simplifies to:\n",
    "\n",
    "\\begin{equation}b = \\frac{53.18389}{7} = 7.597699\\end{equation}\n",
    "\n",
    "Now we have our linear function:\n",
    "\n",
    "\\begin{equation}f(x) = 44.4172x + 7.597699\\end{equation}\n",
    "\n",
    "We can use this for each *x* (Study) value to calculate the *y* values for the regression line (*f(x)*), and we can subtract the original *y* (Grade) from these to calculate the error for each point:\n",
    "\n",
    "| Name     | Study | Grade | *f(x)* | Error |\n",
    "|----------|-------|-------|------|------ |\n",
    "| Dan      | 1     | 50    |52.0149 |2.0149 |\n",
    "| Joann    | 0.75  | 50    |40.9106 |-9.0894|\n",
    "| Pedro    | 0.6   | 46    |34.2480 |-11.752|\n",
    "| Rosie    | 2     | 95    |96.4321 |1.4321 |\n",
    "| Ethan    | 1     | 50    |52.0149 |2.0149 |\n",
    "| Vicky    | 0.2   | 5     |16.4811 |11.4811|\n",
    "| Frederic | 1.2   | 57    |60.8983 |3.8983 |\n",
    "\n",
    "As you can see, the *f(x)* values are mostly quite close to the actual *Grade* values, and the errors (which when we're comparing estimated values from a function with actual known values we we often call *residuals*) are generally pretty small.\n",
    "\n",
    "Let's plot the least squares regression line with the actual values:"
   ]
  },
  {
   "cell_type": "code",
   "execution_count": 34,
   "metadata": {},
   "outputs": [
    {
     "data": {},
     "metadata": {},
     "output_type": "display_data"
    },
    {
     "data": {
      "image/png": "[encoded data removed]",
      "text/plain": [
       "plot without title"
      ]
     },
     "metadata": {},
     "output_type": "display_data"
    }
   ],
   "source": [
    "df3 = data.frame(Name = c('Dan', 'Joann', 'Pedro', 'Rosie', 'Ethan', 'Vicky', 'Frederic'),\n",
    "                Study = c(1,0.75,0.6,2,1,0.2,1.2),\n",
    "                Grade = c(50,50,46,95,50,5,57),\n",
    "                fx = c(52.0159,40.9106,34.2480,96.4321,52.0149,16.4811,60.8983))\n",
    "\n",
    "ggplot(df3) +\n",
    "       geom_point(aes(Study, Grade), color = 'red', alpha = 0.5) +\n",
    "       geom_line(aes(Study, fx), color = 'blue') +\n",
    "       ggtitle('Study vs. Grade')"
   ]
  },
  {
   "cell_type": "markdown",
   "metadata": {},
   "source": [
    "In this case, the line fits the middle values fairly well, but is less accurate for the outlier at the low end. This is often the case, which is why statisticians and data scientists often *treat* outliers by removing them or applying a threshold value; though in this example there are too few data points to conclude that the data points are really outliers.\n",
    "\n",
    "Let's look at a slightly larger dataset and apply the same approach to compare *Grade* and *Salary*:"
   ]
  },
  {
   "cell_type": "code",
   "execution_count": 46,
   "metadata": {},
   "outputs": [
    {
     "name": "stdout",
     "output_type": "stream",
     "text": [
      "[1] \"slope:  1516.13788560764\"\n",
      "[1] \"y-intercept:  -5731.63903831375\"\n"
     ]
    },
    {
     "data": {},
     "metadata": {},
     "output_type": "display_data"
    },
    {
     "data": {
      "text/html": [
       "<table>\n",
       "<thead><tr><th scope=col>Name</th><th scope=col>Salary</th><th scope=col>Hours</th><th scope=col>Grade</th><th scope=col>x2</th><th scope=col>xy</th><th scope=col>fx</th><th scope=col>error</th></tr></thead>\n",
       "<tbody>\n",
       "\t<tr><td>Dan       </td><td> 50000    </td><td>41        </td><td>50        </td><td>2500      </td><td> 2500000  </td><td> 70075.26 </td><td> 20075.255</td></tr>\n",
       "\t<tr><td>Joann     </td><td> 54000    </td><td>40        </td><td>50        </td><td>2500      </td><td> 2700000  </td><td> 70075.26 </td><td> 16075.255</td></tr>\n",
       "\t<tr><td>Pedro     </td><td> 50000    </td><td>36        </td><td>46        </td><td>2116      </td><td> 2300000  </td><td> 64010.70 </td><td> 14010.704</td></tr>\n",
       "\t<tr><td>Rosie     </td><td>189000    </td><td>17        </td><td>95        </td><td>9025      </td><td>17955000  </td><td>138301.46 </td><td>-50698.540</td></tr>\n",
       "\t<tr><td>Ethan     </td><td> 55000    </td><td>35        </td><td>50        </td><td>2500      </td><td> 2750000  </td><td> 70075.26 </td><td> 15075.255</td></tr>\n",
       "\t<tr><td>Vicky     </td><td> 40000    </td><td>39        </td><td> 5        </td><td>  25      </td><td>  200000  </td><td>  1849.05 </td><td>-38150.950</td></tr>\n",
       "\t<tr><td>Frederic  </td><td> 59000    </td><td>40        </td><td>57        </td><td>3249      </td><td> 3363000  </td><td> 80688.22 </td><td> 21688.220</td></tr>\n",
       "\t<tr><td>Jimmie    </td><td> 42000    </td><td>45        </td><td>42        </td><td>1764      </td><td> 1764000  </td><td> 57946.15 </td><td> 15946.152</td></tr>\n",
       "\t<tr><td>Rhonda    </td><td> 47000    </td><td>41        </td><td>26        </td><td> 676      </td><td> 1222000  </td><td> 33687.95 </td><td>-13312.054</td></tr>\n",
       "\t<tr><td>Giovanni  </td><td> 78000    </td><td>35        </td><td>72        </td><td>5184      </td><td> 5616000  </td><td>103430.29 </td><td> 25430.289</td></tr>\n",
       "\t<tr><td>Francesca </td><td>119000    </td><td>30        </td><td>78        </td><td>6084      </td><td> 9282000  </td><td>112527.12 </td><td> -6472.884</td></tr>\n",
       "\t<tr><td>Rajab     </td><td> 95000    </td><td>33        </td><td>60        </td><td>3600      </td><td> 5700000  </td><td> 85236.63 </td><td> -9763.366</td></tr>\n",
       "\t<tr><td>Naiyana   </td><td> 49000    </td><td>38        </td><td>40        </td><td>1600      </td><td> 1960000  </td><td> 54913.88 </td><td>  5913.876</td></tr>\n",
       "\t<tr><td>Kian      </td><td> 29000    </td><td>47        </td><td>17        </td><td> 289      </td><td>  493000  </td><td> 20042.71 </td><td> -8957.295</td></tr>\n",
       "\t<tr><td>Jenny     </td><td>130000    </td><td>24        </td><td>85        </td><td>7225      </td><td>11050000  </td><td>123140.08 </td><td> -6859.919</td></tr>\n",
       "</tbody>\n",
       "</table>\n"
      ],
      "text/latex": [
       "\\begin{tabular}{r|llllllll}\n",
       " Name & Salary & Hours & Grade & x2 & xy & fx & error\\\\\n",
       "\\hline\n",
       "\t Dan        &  50000     & 41         & 50         & 2500       &  2500000   &  70075.26  &  20075.255\\\\\n",
       "\t Joann      &  54000     & 40         & 50         & 2500       &  2700000   &  70075.26  &  16075.255\\\\\n",
       "\t Pedro      &  50000     & 36         & 46         & 2116       &  2300000   &  64010.70  &  14010.704\\\\\n",
       "\t Rosie      & 189000     & 17         & 95         & 9025       & 17955000   & 138301.46  & -50698.540\\\\\n",
       "\t Ethan      &  55000     & 35         & 50         & 2500       &  2750000   &  70075.26  &  15075.255\\\\\n",
       "\t Vicky      &  40000     & 39         &  5         &   25       &   200000   &   1849.05  & -38150.950\\\\\n",
       "\t Frederic   &  59000     & 40         & 57         & 3249       &  3363000   &  80688.22  &  21688.220\\\\\n",
       "\t Jimmie     &  42000     & 45         & 42         & 1764       &  1764000   &  57946.15  &  15946.152\\\\\n",
       "\t Rhonda     &  47000     & 41         & 26         &  676       &  1222000   &  33687.95  & -13312.054\\\\\n",
       "\t Giovanni   &  78000     & 35         & 72         & 5184       &  5616000   & 103430.29  &  25430.289\\\\\n",
       "\t Francesca  & 119000     & 30         & 78         & 6084       &  9282000   & 112527.12  &  -6472.884\\\\\n",
       "\t Rajab      &  95000     & 33         & 60         & 3600       &  5700000   &  85236.63  &  -9763.366\\\\\n",
       "\t Naiyana    &  49000     & 38         & 40         & 1600       &  1960000   &  54913.88  &   5913.876\\\\\n",
       "\t Kian       &  29000     & 47         & 17         &  289       &   493000   &  20042.71  &  -8957.295\\\\\n",
       "\t Jenny      & 130000     & 24         & 85         & 7225       & 11050000   & 123140.08  &  -6859.919\\\\\n",
       "\\end{tabular}\n"
      ],
      "text/markdown": [
       "\n",
       "Name | Salary | Hours | Grade | x2 | xy | fx | error | \n",
       "|---|---|---|---|---|---|---|---|---|---|---|---|---|---|---|\n",
       "| Dan        |  50000     | 41         | 50         | 2500       |  2500000   |  70075.26  |  20075.255 | \n",
       "| Joann      |  54000     | 40         | 50         | 2500       |  2700000   |  70075.26  |  16075.255 | \n",
       "| Pedro      |  50000     | 36         | 46         | 2116       |  2300000   |  64010.70  |  14010.704 | \n",
       "| Rosie      | 189000     | 17         | 95         | 9025       | 17955000   | 138301.46  | -50698.540 | \n",
       "| Ethan      |  55000     | 35         | 50         | 2500       |  2750000   |  70075.26  |  15075.255 | \n",
       "| Vicky      |  40000     | 39         |  5         |   25       |   200000   |   1849.05  | -38150.950 | \n",
       "| Frederic   |  59000     | 40         | 57         | 3249       |  3363000   |  80688.22  |  21688.220 | \n",
       "| Jimmie     |  42000     | 45         | 42         | 1764       |  1764000   |  57946.15  |  15946.152 | \n",
       "| Rhonda     |  47000     | 41         | 26         |  676       |  1222000   |  33687.95  | -13312.054 | \n",
       "| Giovanni   |  78000     | 35         | 72         | 5184       |  5616000   | 103430.29  |  25430.289 | \n",
       "| Francesca  | 119000     | 30         | 78         | 6084       |  9282000   | 112527.12  |  -6472.884 | \n",
       "| Rajab      |  95000     | 33         | 60         | 3600       |  5700000   |  85236.63  |  -9763.366 | \n",
       "| Naiyana    |  49000     | 38         | 40         | 1600       |  1960000   |  54913.88  |   5913.876 | \n",
       "| Kian       |  29000     | 47         | 17         |  289       |   493000   |  20042.71  |  -8957.295 | \n",
       "| Jenny      | 130000     | 24         | 85         | 7225       | 11050000   | 123140.08  |  -6859.919 | \n",
       "\n",
       "\n"
      ],
      "text/plain": [
       "   Name      Salary Hours Grade x2   xy       fx        error     \n",
       "1  Dan        50000 41    50    2500  2500000  70075.26  20075.255\n",
       "2  Joann      54000 40    50    2500  2700000  70075.26  16075.255\n",
       "3  Pedro      50000 36    46    2116  2300000  64010.70  14010.704\n",
       "4  Rosie     189000 17    95    9025 17955000 138301.46 -50698.540\n",
       "5  Ethan      55000 35    50    2500  2750000  70075.26  15075.255\n",
       "6  Vicky      40000 39     5      25   200000   1849.05 -38150.950\n",
       "7  Frederic   59000 40    57    3249  3363000  80688.22  21688.220\n",
       "8  Jimmie     42000 45    42    1764  1764000  57946.15  15946.152\n",
       "9  Rhonda     47000 41    26     676  1222000  33687.95 -13312.054\n",
       "10 Giovanni   78000 35    72    5184  5616000 103430.29  25430.289\n",
       "11 Francesca 119000 30    78    6084  9282000 112527.12  -6472.884\n",
       "12 Rajab      95000 33    60    3600  5700000  85236.63  -9763.366\n",
       "13 Naiyana    49000 38    40    1600  1960000  54913.88   5913.876\n",
       "14 Kian       29000 47    17     289   493000  20042.71  -8957.295\n",
       "15 Jenny     130000 24    85    7225 11050000 123140.08  -6859.919"
      ]
     },
     "metadata": {},
     "output_type": "display_data"
    },
    {
     "data": {
      "image/png": "[encoded data removed]",
      "text/plain": [
       "plot without title"
      ]
     },
     "metadata": {},
     "output_type": "display_data"
    }
   ],
   "source": [
    "## Compute the regression model\n",
    "df1[,'x2'] = df1$Grade**2\n",
    "df1[,'xy'] = df1$Grade * df1$Salary\n",
    "x = sum(df1$Grade)\n",
    "y = sum(df1$Salary)\n",
    "x2 = sum(df1$x2)\n",
    "xy = sum(df1$xy)\n",
    "n = length(df1$Grade)\n",
    "m = ((n*xy) - (x*y))/((n*x2)-(x**2))\n",
    "b = (y - (m*x))/n\n",
    "df1[,'fx'] = m*df1$Grade + b\n",
    "df1[,'error'] = df1$fx - df1$Salary\n",
    "\n",
    "print(paste('slope: ', as.character(m)))\n",
    "print(paste('y-intercept: ', as.character(b)))\n",
    "\n",
    "## Plot the data and the regression line\n",
    "ggplot(df1) +\n",
    "       geom_point(aes(Grade, Salary), color = 'red', alpha = 0.5) +\n",
    "       geom_line(aes(Grade, fx), color = 'blue') +\n",
    "       ggtitle('Salary vs. Grade')\n",
    "\n",
    "## Finally print the data frame\n",
    "df1"
   ]
  },
  {
   "cell_type": "markdown",
   "metadata": {},
   "source": [
    "In this case, we used R expressions to calculate the *slope* and *y-intercept* using the same approach and formula as before. In practice, R provides great support for statistical operations like this; and you can use the ***lm*** function to retrieve the *slope* and *y-intercept* (as well as the *correlation*, *p-value*, and *standard error*) for a matched array of *x* and *y* values (we'll discuss *p-values* later!).\n",
    "\n",
    "Here's the R code to calculate the regression line variables using the ***lm*** function. The **lm** function uses the R model formula language to define the model. In this case $Salary \\sim Grade$ means that Salary is modeled or predicted by values of Grade. "
   ]
  },
  {
   "cell_type": "code",
   "execution_count": 62,
   "metadata": {},
   "outputs": [
    {
     "name": "stdout",
     "output_type": "stream",
     "text": [
      "[1] \"slope:  1516.13788560764\"\n",
      "[1] \"y-intercept:  -5731.63903831377\"\n"
     ]
    },
    {
     "data": {
      "text/html": [
       "<table>\n",
       "<thead><tr><th scope=col>Name</th><th scope=col>Salary</th><th scope=col>Hours</th><th scope=col>Grade</th><th scope=col>x2</th><th scope=col>xy</th><th scope=col>fx</th></tr></thead>\n",
       "<tbody>\n",
       "\t<tr><td>Dan      </td><td> 50000   </td><td>41       </td><td>50       </td><td>2500     </td><td> 2500000 </td><td> 70075.26</td></tr>\n",
       "\t<tr><td>Joann    </td><td> 54000   </td><td>40       </td><td>50       </td><td>2500     </td><td> 2700000 </td><td> 70075.26</td></tr>\n",
       "\t<tr><td>Pedro    </td><td> 50000   </td><td>36       </td><td>46       </td><td>2116     </td><td> 2300000 </td><td> 64010.70</td></tr>\n",
       "\t<tr><td>Rosie    </td><td>189000   </td><td>17       </td><td>95       </td><td>9025     </td><td>17955000 </td><td>138301.46</td></tr>\n",
       "\t<tr><td>Ethan    </td><td> 55000   </td><td>35       </td><td>50       </td><td>2500     </td><td> 2750000 </td><td> 70075.26</td></tr>\n",
       "\t<tr><td>Vicky    </td><td> 40000   </td><td>39       </td><td> 5       </td><td>  25     </td><td>  200000 </td><td>  1849.05</td></tr>\n",
       "\t<tr><td>Frederic </td><td> 59000   </td><td>40       </td><td>57       </td><td>3249     </td><td> 3363000 </td><td> 80688.22</td></tr>\n",
       "\t<tr><td>Jimmie   </td><td> 42000   </td><td>45       </td><td>42       </td><td>1764     </td><td> 1764000 </td><td> 57946.15</td></tr>\n",
       "\t<tr><td>Rhonda   </td><td> 47000   </td><td>41       </td><td>26       </td><td> 676     </td><td> 1222000 </td><td> 33687.95</td></tr>\n",
       "\t<tr><td>Giovanni </td><td> 78000   </td><td>35       </td><td>72       </td><td>5184     </td><td> 5616000 </td><td>103430.29</td></tr>\n",
       "\t<tr><td>Francesca</td><td>119000   </td><td>30       </td><td>78       </td><td>6084     </td><td> 9282000 </td><td>112527.12</td></tr>\n",
       "\t<tr><td>Rajab    </td><td> 95000   </td><td>33       </td><td>60       </td><td>3600     </td><td> 5700000 </td><td> 85236.63</td></tr>\n",
       "\t<tr><td>Naiyana  </td><td> 49000   </td><td>38       </td><td>40       </td><td>1600     </td><td> 1960000 </td><td> 54913.88</td></tr>\n",
       "\t<tr><td>Kian     </td><td> 29000   </td><td>47       </td><td>17       </td><td> 289     </td><td>  493000 </td><td> 20042.71</td></tr>\n",
       "\t<tr><td>Jenny    </td><td>130000   </td><td>24       </td><td>85       </td><td>7225     </td><td>11050000 </td><td>123140.08</td></tr>\n",
       "</tbody>\n",
       "</table>\n"
      ],
      "text/latex": [
       "\\begin{tabular}{r|lllllll}\n",
       " Name & Salary & Hours & Grade & x2 & xy & fx\\\\\n",
       "\\hline\n",
       "\t Dan       &  50000    & 41        & 50        & 2500      &  2500000  &  70075.26\\\\\n",
       "\t Joann     &  54000    & 40        & 50        & 2500      &  2700000  &  70075.26\\\\\n",
       "\t Pedro     &  50000    & 36        & 46        & 2116      &  2300000  &  64010.70\\\\\n",
       "\t Rosie     & 189000    & 17        & 95        & 9025      & 17955000  & 138301.46\\\\\n",
       "\t Ethan     &  55000    & 35        & 50        & 2500      &  2750000  &  70075.26\\\\\n",
       "\t Vicky     &  40000    & 39        &  5        &   25      &   200000  &   1849.05\\\\\n",
       "\t Frederic  &  59000    & 40        & 57        & 3249      &  3363000  &  80688.22\\\\\n",
       "\t Jimmie    &  42000    & 45        & 42        & 1764      &  1764000  &  57946.15\\\\\n",
       "\t Rhonda    &  47000    & 41        & 26        &  676      &  1222000  &  33687.95\\\\\n",
       "\t Giovanni  &  78000    & 35        & 72        & 5184      &  5616000  & 103430.29\\\\\n",
       "\t Francesca & 119000    & 30        & 78        & 6084      &  9282000  & 112527.12\\\\\n",
       "\t Rajab     &  95000    & 33        & 60        & 3600      &  5700000  &  85236.63\\\\\n",
       "\t Naiyana   &  49000    & 38        & 40        & 1600      &  1960000  &  54913.88\\\\\n",
       "\t Kian      &  29000    & 47        & 17        &  289      &   493000  &  20042.71\\\\\n",
       "\t Jenny     & 130000    & 24        & 85        & 7225      & 11050000  & 123140.08\\\\\n",
       "\\end{tabular}\n"
      ],
      "text/markdown": [
       "\n",
       "Name | Salary | Hours | Grade | x2 | xy | fx | \n",
       "|---|---|---|---|---|---|---|---|---|---|---|---|---|---|---|\n",
       "| Dan       |  50000    | 41        | 50        | 2500      |  2500000  |  70075.26 | \n",
       "| Joann     |  54000    | 40        | 50        | 2500      |  2700000  |  70075.26 | \n",
       "| Pedro     |  50000    | 36        | 46        | 2116      |  2300000  |  64010.70 | \n",
       "| Rosie     | 189000    | 17        | 95        | 9025      | 17955000  | 138301.46 | \n",
       "| Ethan     |  55000    | 35        | 50        | 2500      |  2750000  |  70075.26 | \n",
       "| Vicky     |  40000    | 39        |  5        |   25      |   200000  |   1849.05 | \n",
       "| Frederic  |  59000    | 40        | 57        | 3249      |  3363000  |  80688.22 | \n",
       "| Jimmie    |  42000    | 45        | 42        | 1764      |  1764000  |  57946.15 | \n",
       "| Rhonda    |  47000    | 41        | 26        |  676      |  1222000  |  33687.95 | \n",
       "| Giovanni  |  78000    | 35        | 72        | 5184      |  5616000  | 103430.29 | \n",
       "| Francesca | 119000    | 30        | 78        | 6084      |  9282000  | 112527.12 | \n",
       "| Rajab     |  95000    | 33        | 60        | 3600      |  5700000  |  85236.63 | \n",
       "| Naiyana   |  49000    | 38        | 40        | 1600      |  1960000  |  54913.88 | \n",
       "| Kian      |  29000    | 47        | 17        |  289      |   493000  |  20042.71 | \n",
       "| Jenny     | 130000    | 24        | 85        | 7225      | 11050000  | 123140.08 | \n",
       "\n",
       "\n"
      ],
      "text/plain": [
       "   Name      Salary Hours Grade x2   xy       fx       \n",
       "1  Dan        50000 41    50    2500  2500000  70075.26\n",
       "2  Joann      54000 40    50    2500  2700000  70075.26\n",
       "3  Pedro      50000 36    46    2116  2300000  64010.70\n",
       "4  Rosie     189000 17    95    9025 17955000 138301.46\n",
       "5  Ethan      55000 35    50    2500  2750000  70075.26\n",
       "6  Vicky      40000 39     5      25   200000   1849.05\n",
       "7  Frederic   59000 40    57    3249  3363000  80688.22\n",
       "8  Jimmie     42000 45    42    1764  1764000  57946.15\n",
       "9  Rhonda     47000 41    26     676  1222000  33687.95\n",
       "10 Giovanni   78000 35    72    5184  5616000 103430.29\n",
       "11 Francesca 119000 30    78    6084  9282000 112527.12\n",
       "12 Rajab      95000 33    60    3600  5700000  85236.63\n",
       "13 Naiyana    49000 38    40    1600  1960000  54913.88\n",
       "14 Kian       29000 47    17     289   493000  20042.71\n",
       "15 Jenny     130000 24    85    7225 11050000 123140.08"
      ]
     },
     "metadata": {},
     "output_type": "display_data"
    },
    {
     "data": {},
     "metadata": {},
     "output_type": "display_data"
    },
    {
     "data": {
      "image/png": "[encoded data removed]",
      "text/plain": [
       "plot without title"
      ]
     },
     "metadata": {},
     "output_type": "display_data"
    }
   ],
   "source": [
    "## Remove columns from data frame\n",
    "df1$fx = NULL\n",
    "df1$error = NULL\n",
    "\n",
    "## Compute the linear regression model\n",
    "lm_mod = lm(Salary ~ Grade, data = df1)\n",
    "\n",
    "## extract the intercept and slope form the model object\n",
    "b = lm_mod$coefficient[1]\n",
    "m = lm_mod$coefficient[2]\n",
    "print(paste('slope: ', as.character(m)))\n",
    "print(paste('y-intercept: ', as.character(b)))\n",
    "\n",
    "## Use predict method to find predicted values\n",
    "df1[,'fx'] = predict(lm_mod, newdata = df1)\n",
    "\n",
    "## Print the data frame\n",
    "df1\n",
    "\n",
    "## Plot the data and the regression line\n",
    "ggplot(df1) +\n",
    "       geom_point(aes(Grade, Salary), color = 'red', alpha = 0.5) +\n",
    "       geom_line(aes(Grade, fx), color = 'blue') +\n",
    "       ggtitle('Salary vs. Grade')"
   ]
  },
  {
   "cell_type": "markdown",
   "metadata": {},
   "source": [
    "Note that the *slope* and *y-intercept* values are the same as when we worked them out using the formula.\n",
    "\n",
    "Similarly to the simple study hours example, the regression line doesn't fit the outliers very well. In this case, the extremes include a student who scored only 5, and a student who scored 95. Let's see what happens if we remove these students from our sample:"
   ]
  },
  {
   "cell_type": "code",
   "execution_count": 70,
   "metadata": {},
   "outputs": [
    {
     "name": "stdout",
     "output_type": "stream",
     "text": [
      "[1] \"slope:  1424.50088232241\"\n",
      "[1] \"y-intercept:  -7822.23798484483\"\n"
     ]
    },
    {
     "data": {
      "text/html": [
       "<table>\n",
       "<thead><tr><th scope=col>Name</th><th scope=col>Salary</th><th scope=col>Hours</th><th scope=col>Grade</th><th scope=col>x2</th><th scope=col>xy</th><th scope=col>fx</th></tr></thead>\n",
       "<tbody>\n",
       "\t<tr><td>Dan      </td><td> 50000   </td><td>41       </td><td>50       </td><td>2500     </td><td> 2500000 </td><td> 70075.26</td></tr>\n",
       "\t<tr><td>Joann    </td><td> 54000   </td><td>40       </td><td>50       </td><td>2500     </td><td> 2700000 </td><td> 70075.26</td></tr>\n",
       "\t<tr><td>Pedro    </td><td> 50000   </td><td>36       </td><td>46       </td><td>2116     </td><td> 2300000 </td><td> 64010.70</td></tr>\n",
       "\t<tr><td>Rosie    </td><td>189000   </td><td>17       </td><td>95       </td><td>9025     </td><td>17955000 </td><td>138301.46</td></tr>\n",
       "\t<tr><td>Ethan    </td><td> 55000   </td><td>35       </td><td>50       </td><td>2500     </td><td> 2750000 </td><td> 70075.26</td></tr>\n",
       "\t<tr><td>Vicky    </td><td> 40000   </td><td>39       </td><td> 5       </td><td>  25     </td><td>  200000 </td><td>  1849.05</td></tr>\n",
       "\t<tr><td>Frederic </td><td> 59000   </td><td>40       </td><td>57       </td><td>3249     </td><td> 3363000 </td><td> 80688.22</td></tr>\n",
       "\t<tr><td>Jimmie   </td><td> 42000   </td><td>45       </td><td>42       </td><td>1764     </td><td> 1764000 </td><td> 57946.15</td></tr>\n",
       "\t<tr><td>Rhonda   </td><td> 47000   </td><td>41       </td><td>26       </td><td> 676     </td><td> 1222000 </td><td> 33687.95</td></tr>\n",
       "\t<tr><td>Giovanni </td><td> 78000   </td><td>35       </td><td>72       </td><td>5184     </td><td> 5616000 </td><td>103430.29</td></tr>\n",
       "\t<tr><td>Francesca</td><td>119000   </td><td>30       </td><td>78       </td><td>6084     </td><td> 9282000 </td><td>112527.12</td></tr>\n",
       "\t<tr><td>Rajab    </td><td> 95000   </td><td>33       </td><td>60       </td><td>3600     </td><td> 5700000 </td><td> 85236.63</td></tr>\n",
       "\t<tr><td>Naiyana  </td><td> 49000   </td><td>38       </td><td>40       </td><td>1600     </td><td> 1960000 </td><td> 54913.88</td></tr>\n",
       "\t<tr><td>Kian     </td><td> 29000   </td><td>47       </td><td>17       </td><td> 289     </td><td>  493000 </td><td> 20042.71</td></tr>\n",
       "\t<tr><td>Jenny    </td><td>130000   </td><td>24       </td><td>85       </td><td>7225     </td><td>11050000 </td><td>123140.08</td></tr>\n",
       "</tbody>\n",
       "</table>\n"
      ],
      "text/latex": [
       "\\begin{tabular}{r|lllllll}\n",
       " Name & Salary & Hours & Grade & x2 & xy & fx\\\\\n",
       "\\hline\n",
       "\t Dan       &  50000    & 41        & 50        & 2500      &  2500000  &  70075.26\\\\\n",
       "\t Joann     &  54000    & 40        & 50        & 2500      &  2700000  &  70075.26\\\\\n",
       "\t Pedro     &  50000    & 36        & 46        & 2116      &  2300000  &  64010.70\\\\\n",
       "\t Rosie     & 189000    & 17        & 95        & 9025      & 17955000  & 138301.46\\\\\n",
       "\t Ethan     &  55000    & 35        & 50        & 2500      &  2750000  &  70075.26\\\\\n",
       "\t Vicky     &  40000    & 39        &  5        &   25      &   200000  &   1849.05\\\\\n",
       "\t Frederic  &  59000    & 40        & 57        & 3249      &  3363000  &  80688.22\\\\\n",
       "\t Jimmie    &  42000    & 45        & 42        & 1764      &  1764000  &  57946.15\\\\\n",
       "\t Rhonda    &  47000    & 41        & 26        &  676      &  1222000  &  33687.95\\\\\n",
       "\t Giovanni  &  78000    & 35        & 72        & 5184      &  5616000  & 103430.29\\\\\n",
       "\t Francesca & 119000    & 30        & 78        & 6084      &  9282000  & 112527.12\\\\\n",
       "\t Rajab     &  95000    & 33        & 60        & 3600      &  5700000  &  85236.63\\\\\n",
       "\t Naiyana   &  49000    & 38        & 40        & 1600      &  1960000  &  54913.88\\\\\n",
       "\t Kian      &  29000    & 47        & 17        &  289      &   493000  &  20042.71\\\\\n",
       "\t Jenny     & 130000    & 24        & 85        & 7225      & 11050000  & 123140.08\\\\\n",
       "\\end{tabular}\n"
      ],
      "text/markdown": [
       "\n",
       "Name | Salary | Hours | Grade | x2 | xy | fx | \n",
       "|---|---|---|---|---|---|---|---|---|---|---|---|---|---|---|\n",
       "| Dan       |  50000    | 41        | 50        | 2500      |  2500000  |  70075.26 | \n",
       "| Joann     |  54000    | 40        | 50        | 2500      |  2700000  |  70075.26 | \n",
       "| Pedro     |  50000    | 36        | 46        | 2116      |  2300000  |  64010.70 | \n",
       "| Rosie     | 189000    | 17        | 95        | 9025      | 17955000  | 138301.46 | \n",
       "| Ethan     |  55000    | 35        | 50        | 2500      |  2750000  |  70075.26 | \n",
       "| Vicky     |  40000    | 39        |  5        |   25      |   200000  |   1849.05 | \n",
       "| Frederic  |  59000    | 40        | 57        | 3249      |  3363000  |  80688.22 | \n",
       "| Jimmie    |  42000    | 45        | 42        | 1764      |  1764000  |  57946.15 | \n",
       "| Rhonda    |  47000    | 41        | 26        |  676      |  1222000  |  33687.95 | \n",
       "| Giovanni  |  78000    | 35        | 72        | 5184      |  5616000  | 103430.29 | \n",
       "| Francesca | 119000    | 30        | 78        | 6084      |  9282000  | 112527.12 | \n",
       "| Rajab     |  95000    | 33        | 60        | 3600      |  5700000  |  85236.63 | \n",
       "| Naiyana   |  49000    | 38        | 40        | 1600      |  1960000  |  54913.88 | \n",
       "| Kian      |  29000    | 47        | 17        |  289      |   493000  |  20042.71 | \n",
       "| Jenny     | 130000    | 24        | 85        | 7225      | 11050000  | 123140.08 | \n",
       "\n",
       "\n"
      ],
      "text/plain": [
       "   Name      Salary Hours Grade x2   xy       fx       \n",
       "1  Dan        50000 41    50    2500  2500000  70075.26\n",
       "2  Joann      54000 40    50    2500  2700000  70075.26\n",
       "3  Pedro      50000 36    46    2116  2300000  64010.70\n",
       "4  Rosie     189000 17    95    9025 17955000 138301.46\n",
       "5  Ethan      55000 35    50    2500  2750000  70075.26\n",
       "6  Vicky      40000 39     5      25   200000   1849.05\n",
       "7  Frederic   59000 40    57    3249  3363000  80688.22\n",
       "8  Jimmie     42000 45    42    1764  1764000  57946.15\n",
       "9  Rhonda     47000 41    26     676  1222000  33687.95\n",
       "10 Giovanni   78000 35    72    5184  5616000 103430.29\n",
       "11 Francesca 119000 30    78    6084  9282000 112527.12\n",
       "12 Rajab      95000 33    60    3600  5700000  85236.63\n",
       "13 Naiyana    49000 38    40    1600  1960000  54913.88\n",
       "14 Kian       29000 47    17     289   493000  20042.71\n",
       "15 Jenny     130000 24    85    7225 11050000 123140.08"
      ]
     },
     "metadata": {},
     "output_type": "display_data"
    },
    {
     "data": {},
     "metadata": {},
     "output_type": "display_data"
    },
    {
     "data": {
      "image/png": "[encoded data removed]",
      "text/plain": [
       "plot without title"
      ]
     },
     "metadata": {},
     "output_type": "display_data"
    }
   ],
   "source": [
    "df_trimmed = df1[df1$Grade > 10 &df1$Grade < 90,]\n",
    "\n",
    "## Compute the linear regression model\n",
    "lm_mod = lm(Salary ~ Grade, data = df_trimmed)\n",
    "\n",
    "## extract the intercept and slope form the model object\n",
    "b = lm_mod$coefficient[1]\n",
    "m = lm_mod$coefficient[2]\n",
    "print(paste('slope: ', as.character(m)))\n",
    "print(paste('y-intercept: ', as.character(b)))\n",
    "\n",
    "## Use predict method to find predicted values\n",
    "df_trimmed[,'fx'] = predict(lm_mod, newdata = df_trimmed)\n",
    "\n",
    "## Print the data frame\n",
    "df1\n",
    "\n",
    "## Plot the data and the regression line\n",
    "ggplot(df_trimmed) +\n",
    "       geom_point(aes(Grade, Salary), color = 'red', alpha = 0.5) +\n",
    "       geom_line(aes(Grade, fx), color = 'blue') +\n",
    "       ggtitle('Salary vs. Grade')"
   ]
  },
  {
   "cell_type": "markdown",
   "metadata": {},
   "source": [
    "With the outliers removed, the line is a slightly better overall fit to the data.\n",
    "\n",
    "One of the neat things about regression is that it gives us a formula and some constant values that we can use to estimate a *y* value for any *x* value. We just need to apply the linear function using the *slope* and *y-intercept* values we've calculated from our sample data. For example, suppose a student named Fabio graduates from our school with a final grade of **62**. We can use our linear function with the *slope* and *y-intercept* values we calculated with R to estimate what salary he can expect to earn:\n",
    "\n",
    "\\begin{equation}f(x) = (1424.50\\times62) - 7822.24 \\approx 80,497 \\end{equation}\n"
   ]
  },
  {
   "cell_type": "code",
   "execution_count": null,
   "metadata": {},
   "outputs": [],
   "source": []
  }
 ],
 "metadata": {
  "kernelspec": {
   "display_name": "R",
   "language": "R",
   "name": "ir"
  },
  "language_info": {
   "codemirror_mode": "r",
   "file_extension": ".r",
   "mimetype": "text/x-r-source",
   "name": "R",
   "pygments_lexer": "r",
   "version": "3.5.0"
  }
 },
 "nbformat": 4,
 "nbformat_minor": 2
}
