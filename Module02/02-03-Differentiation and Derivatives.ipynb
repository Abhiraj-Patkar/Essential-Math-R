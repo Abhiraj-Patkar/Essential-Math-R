{
 "cells": [
  {
   "cell_type": "markdown",
   "metadata": {},
   "source": [
    "## Differentiation and Derivatives\n",
    "So far in this course, you've learned how to evaluate limits for points on a line. Now you're going to build on that knowledge and look at a calculus technique called *differentiation*. In differentiation, we use our knowledge of limits to calculate the *derivative* of a function in order to determine the rate of change at an individual point on a line.\n",
    "\n",
    "Let's remind ourselves of the problem we're trying to solve, here's a function:\n",
    "\n",
    "\\begin{equation}f(x) = x^{2} + x\\end{equation}\n",
    "\n",
    "We can visualize part of the line that this function defines using the following R code:"
   ]
  },
  {
   "cell_type": "code",
   "execution_count": 1,
   "metadata": {},
   "outputs": [
    {
     "data": {},
     "metadata": {},
     "output_type": "display_data"
    },
    {
     "data": {
      "image/png": "[encoded data removed]",
      "text/plain": [
       "plot without title"
      ]
     },
     "metadata": {},
     "output_type": "display_data"
    }
   ],
   "source": [
    "library(ggplot2)\n",
    "library(repr)\n",
    "options(repr.plot.width=3.5, repr.plot.height=3) # Set the initial plot area dimensions\n",
    "\n",
    "## Define the function\n",
    "f = function(x) x^2 + x\n",
    "\n",
    "df1 = data.frame(x = seq(0,10))\n",
    "df1$f = f(df1$x)\n",
    "\n",
    "ggplot(df1, aes(x,f)) +\n",
    "    geom_line(color = 'green', size = 1) +\n",
    "    ylab('f(x)')"
   ]
  },
  {
   "cell_type": "markdown",
   "metadata": {},
   "source": [
    "Now, we know that we can calculate the average rate of change for a given interval on the line by calculating the slope for a secant line that connects two points on the line. For example, we can calculate the average change for the interval between x=4 and x=6 by dividing the change (or *delta*, indicated as &Delta;) in the value of *f(x)* by the change in the value of *x*:\n",
    "\n",
    "\\begin{equation}m = \\frac{\\Delta{f(x)}}{\\Delta{x}} \\end{equation}\n",
    "\n",
    "The delta for *f(x)* is calculated by subtracting the *f(x)* values of our points, and the delta for *x* is calculated by subtracting the *x* values of our points; like this:\n",
    "\n",
    "\\begin{equation}m = \\frac{f(x)_{2} - f(x)_{1}}{x_{2} - x_{1}} \\end{equation}\n",
    "\n",
    "So for the interval between x=4 and x=6, that's:\n",
    "\n",
    "\\begin{equation}m = \\frac{f(6) - f(4)}{6 - 4} \\end{equation}\n",
    "\n",
    "We can calculate and plot this using the following R:"
   ]
  },
  {
   "cell_type": "code",
   "execution_count": 2,
   "metadata": {},
   "outputs": [
    {
     "data": {},
     "metadata": {},
     "output_type": "display_data"
    },
    {
     "data": {
      "image/png": "[encoded data removed]",
      "text/plain": [
       "plot without title"
      ]
     },
     "metadata": {},
     "output_type": "display_data"
    }
   ],
   "source": [
    "df2 = data.frame(x = c(4,6), y = c(f(4),f(6)))\n",
    "m = (df2$y[2] - df2$y[1])/(df2$x[2] - df2$x[1])\n",
    "\n",
    "ggplot() +\n",
    "    geom_line(data = df1, aes(x,f), color = 'green', size = 1) +\n",
    "    geom_line(data = df2, aes(x,y), color = 'magenta', size = 1) +\n",
    "    geom_point(data = df2, aes(x,y), color = 'magenta', size = 1)  +\n",
    "    annotate(\"text\", x = 7.5, y = 26, label = paste('Average change =', as.character(m))) +\n",
    "    ylab('f(x)')"
   ]
  },
  {
   "cell_type": "markdown",
   "metadata": {},
   "source": [
    "The average rate of change for the interval between x=4 and x=6 is <sup>11</sup>/<sub>1</sub> (or simply 11), meaning that for every **1** added to *x*, *f(x)* increases by **11**. Put another way, if x represents time in seconds and f(x) represents distance in meters, the average rate of change for distance over time (in other words, *velocity*) for the 4 to 6 second interval is 11 meters-per-second.\n",
    "\n",
    "So far, this is just basic algebra; but what if instead of the average rate of change over an interval, we want to calculate the rate of change at a single point, say, where x = 4.5?\n",
    "\n",
    "One approach we could take is to create a secant line between the point at which we want the slope and another point on the function line that is infinitesimally close to it. So close in fact that the secant line is actually a tangent that goes through both points. We can then calculate the slope for the secant line as before. This would look something like the graph produced by the following code:"
   ]
  },
  {
   "cell_type": "code",
   "execution_count": 3,
   "metadata": {},
   "outputs": [
    {
     "data": {},
     "metadata": {},
     "output_type": "display_data"
    },
    {
     "data": {
      "image/png": "[encoded data removed]",
      "text/plain": [
       "plot without title"
      ]
     },
     "metadata": {},
     "output_type": "display_data"
    }
   ],
   "source": [
    "## Find the slope of the tanget line\n",
    "m = (f(4.51) - f(4.49))/(4.51 - 4.49)\n",
    "x_tan = 4.5\n",
    "y_tan = f(x_tan)\n",
    "\n",
    "## Create data frame with end points of tangent line\n",
    "df3 = data.frame(x = c(1.5,7.5), \n",
    "                 y = c(m*(1.5 - x_tan) + y_tan, m*(7.5 - x_tan) + y_tan))\n",
    "\n",
    "ggplot() +\n",
    "    geom_line(data = df1, aes(x,f), color = 'green', size = 1) +\n",
    "    geom_line(data = df3, aes(x,y), color = 'magenta', size = 1) +\n",
    "    geom_point(data = data.frame(x=x_tan, y = y_tan), aes(x,y), color = 'magenta', size = 3)  +\n",
    "    ylab('f(x)')"
   ]
  },
  {
   "cell_type": "markdown",
   "metadata": {},
   "source": [
    "## Calculating a Derivative\n",
    "In the R code above, we created the (almost) tangential secant line by specifying a point that is very close to the point at which we want to calculate the rate of change. This is adequate to show the line conceptually in the graph, but it's not a particularly generalizable (or accurate) way to actually calculate the line so that we can get the rate of change at any given point.\n",
    "\n",
    "If only we knew of a way to calculate a point on the line that is as close as possible to point with a given *x* value.\n",
    "\n",
    "Oh wait, we do! It's a *limit*.\n",
    "\n",
    "So how do we apply a limit in this scenario? Well, let's start by examining our general approach to calculating slope in a little more detail.Our tried and tested approach is to plot a secant line between two points at different values of x, so let's plot an arbitrary (*x,y*) point, and then add an arbitrary amount to *x*, which we'll call *h*. Then we know that we can plot a secant line between (*x,f(x)*) and (*x+h,f(x+h)*) and find its slope.\n",
    "\n",
    "Run the cell below to see these points:"
   ]
  },
  {
   "cell_type": "code",
   "execution_count": 4,
   "metadata": {},
   "outputs": [
    {
     "data": {},
     "metadata": {},
     "output_type": "display_data"
    },
    {
     "data": {
      "image/png": "[encoded data removed]",
      "text/plain": [
       "plot without title"
      ]
     },
     "metadata": {},
     "output_type": "display_data"
    }
   ],
   "source": [
    "df4 = data.frame(x = c(3,6))\n",
    "df4$f = f(df4$x)\n",
    "df4$labs = c('(x,f(x))', '(x+h, f(x+h))')\n",
    "\n",
    "ggplot() +\n",
    "    geom_line(data = df1, aes(x,f), color = 'green', size = 1) +\n",
    "    geom_point(data = df4, aes(x,f), color = 'magenta', size = 3)  +\n",
    "    annotate(\"text\", x = df4$x + 2, y = df4$f, label = df4$labs)  +\n",
    "    ylab('f(x)')"
   ]
  },
  {
   "cell_type": "markdown",
   "metadata": {},
   "source": [
    "As we saw previously, our formula to calculate slope is:\n",
    "\n",
    "\\begin{equation}m = \\frac{\\Delta{f(x)}}{\\Delta{x}} \\end{equation}\n",
    "\n",
    "The delta for *f(x)* is calculated by subtracting the *f(x + h)* and *f(x)* values of our points, and the delta for *x* is just the difference between *x* and *x + h*; in other words, *h*:\n",
    "\n",
    "\\begin{equation}m = \\frac{f(x + h) - f(x)}{h} \\end{equation}\n",
    "\n",
    "What we actually need is the slope at the shortest possible distance between x and x+h, so we're looking for the smallest possible value of *h*. In other words, we need the limit as *h* approaches 0.\n",
    "\n",
    "\\begin{equation}\\lim_{h \\to 0} \\frac{f(x + h) - f(x)}{h} \\end{equation}\n",
    "\n",
    "This equation is generalizable, and we can use it as the definition of a function to help us find the slope at any given value of *x* on the line, and it's what we call the *derivative* of our original function (which in this case is called *f*). This is generally indicated in *Lagrange* notation like this:\n",
    "\n",
    "\\begin{equation}f'(x) = \\lim_{h \\to 0} \\frac{f(x + h) - f(x)}{h} \\end{equation}\n",
    "\n",
    "You'll also sometimes see derivatives written in *Leibniz's* notation like this:\n",
    "\n",
    "\\begin{equation}\\frac{d}{dx}f(x) = \\lim_{h \\to 0} \\frac{f(x + h) - f(x)}{h} \\end{equation}\n",
    "\n",
    "***Note:*** *Some textbooks use **h** to symbolize the difference between **x<sub>0</sub>** and **x<sub>1</sub>**, while others use **&Delta;x**. It makes no diffrerence which symbolic value you use.*"
   ]
  },
  {
   "cell_type": "markdown",
   "metadata": {},
   "source": [
    "#### Alternate Form for a Derivative\n",
    "The formula above shows the generalized form for a derivative. You can use the derivative function to get the slope at any given point, for example to get the slope at point *a* you could just plug the value for *a* into the generalized derivative function:\n",
    "\n",
    "\\begin{equation}f'(\\textbf{a}) = \\lim_{h \\to 0} \\frac{f(\\textbf{a} + h) - f(\\textbf{a})}{h} \\end{equation}\n",
    "\n",
    "Or you could use the alternate form, which is specific to point *a*:\n",
    "\n",
    "\\begin{equation}f'(a) = \\lim_{x \\to a} \\frac{f(x) - f(a)}{x - a} \\end{equation}\n",
    "\n",
    "These are mathematically equivalent."
   ]
  },
  {
   "cell_type": "markdown",
   "metadata": {},
   "source": [
    "### Finding the Derivative for a Specific Point\n",
    "It's easier to understand differentiation by seeing it in action, so let's use it to find the derivative for a specific point in the function ***f***.\n",
    "\n",
    "Here's the definition of function ***f***:\n",
    "\n",
    "\\begin{equation}f(x) = x^{2} + x\\end{equation}\n",
    "\n",
    "Let's say we want to find ***f'(2)*** (the derivative for ***f*** when ***x*** is 2); so we're trying to find the slope at the point shown by the following code:"
   ]
  },
  {
   "cell_type": "code",
   "execution_count": 5,
   "metadata": {},
   "outputs": [
    {
     "data": {},
     "metadata": {},
     "output_type": "display_data"
    },
    {
     "data": {
      "image/png": "[encoded data removed]",
      "text/plain": [
       "plot without title"
      ]
     },
     "metadata": {},
     "output_type": "display_data"
    }
   ],
   "source": [
    "ggplot() +\n",
    "    geom_line(data = df1, aes(x,f), color = 'green', size = 1) +\n",
    "    geom_point(data = data.frame(x = 2, y = f(2)), aes(x,y), color = 'magenta', size = 3)  +\n",
    "    annotate(\"text\", x = 3, y = f(2) - 5, label = '(x,f(x))')  +\n",
    "    ylab('f(x)')"
   ]
  },
  {
   "cell_type": "markdown",
   "metadata": {},
   "source": [
    "Here's our generalized formula for finding a derivative at a specific point (*a*):\n",
    "\n",
    "\\begin{equation}f'(a) = \\lim_{h \\to 0} \\frac{f(a + h) - f(a)}{h} \\end{equation}\n",
    "\n",
    "So let's just start by plugging our *a* value in:\n",
    "\n",
    "\\begin{equation}f'(\\textbf{2}) = \\lim_{h \\to 0} \\frac{f(\\textbf{2} + h) - f(\\textbf{2})}{h} \\end{equation}\n",
    "\n",
    "We know that ***f(x)*** encapsulates the equation ***x<sup>2</sup> + x***, so we can rewrite our derivative equation as:\n",
    "\n",
    "\\begin{equation}f'(2) = \\lim_{h \\to 0} \\frac{((2+h)^{2} + 2 + h) - (2^{2} + 2)}{h} \\end{equation}\n",
    "\n",
    "We can apply the distribution property to ***(2 + h)<sup>2</sup>*** using the rule that *(a + b)<sup>2</sup> = a<sup>2</sup> + b<sup>2</sup> + 2ab*:\n",
    "\n",
    "\\begin{equation}f'(2) = \\lim_{h \\to 0} \\frac{(4 + h^{2} + 4h + 2 + h) - (2^{2} + 2)}{h} \\end{equation}\n",
    "\n",
    "Then we can simplify 2<sup>2</sup> + 2 (2<sup>2</sup> is 4, plus 2 gives is 6):\n",
    "\n",
    "\\begin{equation}f'(2) = \\lim_{h \\to 0} \\frac{(4 + h^{2} + 4h + 2 + h) - 6}{h} \\end{equation}\n",
    "\n",
    "We can combine like terms on the left side of the numerator to make things a little clearer:\n",
    "\n",
    "\\begin{equation}f'(2) = \\lim_{h \\to 0} \\frac{(h^{2} + 5h + 6) - 6}{h} \\end{equation}\n",
    "\n",
    "Which combines even further to get rid of the *6*:\n",
    "\n",
    "\\begin{equation}f'(2) = \\lim_{h \\to 0} \\frac{h^{2} + 5h}{h} \\end{equation}\n",
    "\n",
    "And finally, we can simplify the fraction:\n",
    "\n",
    "\\begin{equation}f'(2) = \\lim_{h \\to 0} h + 5 \\end{equation}\n",
    "\n",
    "To get the limit when *h* is approaching 0, we can use direct substitution for h:\n",
    "\n",
    "\\begin{equation}f'(2) = 0 + 5 \\end{equation}\n",
    "\n",
    "so:\n",
    "\n",
    "\\begin{equation}f'(2) = 5 \\end{equation}\n",
    "\n",
    "Let's draw a tangent line with that slope on our graph to see if it looks right:"
   ]
  },
  {
   "cell_type": "code",
   "execution_count": 6,
   "metadata": {},
   "outputs": [
    {
     "data": {},
     "metadata": {},
     "output_type": "display_data"
    },
    {
     "data": {
      "image/png": "[encoded data removed]",
      "text/plain": [
       "plot without title"
      ]
     },
     "metadata": {},
     "output_type": "display_data"
    }
   ],
   "source": [
    "## Create data frame with end points of tangent line\n",
    "x_tan = 2\n",
    "y_tan = f(x_tan)\n",
    "m = 2 * x_tan + 1 # compute derivative\n",
    "df5 = data.frame(x = c(-1,5), \n",
    "                 y = c(m*(-1 - x_tan) + y_tan, m*(5 - x_tan) + y_tan))\n",
    "\n",
    "ggplot() +\n",
    "    geom_line(data = df1, aes(x,f), color = 'green', size = 1) +\n",
    "    geom_point(data = data.frame(x = x_tan, y = y_tan), aes(x,y), color = 'magenta', size = 3) +\n",
    "    geom_line(data = df5, aes(x,y), color = 'magenta', size = 1)  +\n",
    "    annotate(\"text\", x = x_tan + 1, y = y_tan - 5, label = '(x,f(x))')  +\n",
    "    ylab('f(x)')"
   ]
  },
  {
   "cell_type": "markdown",
   "metadata": {},
   "source": [
    "### Finding a Derivative for Any Point\n",
    "Now let's put it all together and define a function that we can use to find the derivative for any point in the ***f*** function:\n",
    "\n",
    "Here's our general derivative function again:\n",
    "\n",
    "\\begin{equation}f'(x) = \\lim_{h \\to 0} \\frac{f(x + h) - f(x)}{h} \\end{equation}\n",
    "\n",
    "We know that ***f(x)*** encapsulates the equation ***x<sup>2</sup> + x***, so we can rewrite our derivative equation as:\n",
    "\n",
    "\\begin{equation}f'(x) = \\lim_{h \\to 0} \\frac{((x+h)^{2} + x + h) - (x^{2} + x)}{h} \\end{equation}\n",
    "\n",
    "We can apply the distribution property to ***(x + h)<sup>2</sup>*** using the rule that *(a + b)<sup>2</sup> = a<sup>2</sup> + b<sup>2</sup> + 2ab*:\n",
    "\n",
    "\\begin{equation}f'(x) = \\lim_{h \\to 0} \\frac{(x^{2} + h^{2} + 2xh + x + h) - (x^{2} + x)}{h} \\end{equation}\n",
    "\n",
    "Then we can use the distributive property to expand ***- (x<sup>2</sup> + x)***, which is the same thing as *-1(x<sup>2</sup> + x)*, to ***- x<sup>2</sup> - x***:\n",
    "\n",
    "\\begin{equation}f'(x) = \\lim_{h \\to 0} \\frac{x^{2} + h^{2} + 2xh + x + h - x^{2} - x}{h} \\end{equation}\n",
    "\n",
    "We can combine like terms on the numerator to make things a little clearer:\n",
    "\n",
    "\\begin{equation}f'(x) = \\lim_{h \\to 0} \\frac{h^{2} + 2xh + h}{h} \\end{equation}\n",
    "\n",
    "And finally, we can simplify the fraction:\n",
    "\n",
    "\\begin{equation}f'(x) = \\lim_{h \\to 0} 2x + h + 1 \\end{equation}\n",
    "\n",
    "To get the limit when *h* is approaching 0, we can use direct substitution for h:\n",
    "\n",
    "\\begin{equation}f'(x) = 2x + 0 + 1 \\end{equation}\n",
    "\n",
    "so:\n",
    "\n",
    "\\begin{equation}f'(x) = 2x + 1 \\end{equation}\n",
    "\n",
    "Now we have a function for the derivative of ***f***, which we can apply to any *x* value to find the slope of the function at ***f(x***).\n",
    "\n",
    "For example, let's find the derivative of ***f*** with an *x* value of 5:\n",
    "\n",
    "\\begin{equation}f'(5) = 2\\cdot5 + 1 = 10 + 1 = 11\\end{equation}\n",
    "\n",
    "Let's use R to define the ***f(x)*** and ***f'(x)*** functions, plot ***f(5)*** and show the tangent line for ***f'(5)***:"
   ]
  },
  {
   "cell_type": "code",
   "execution_count": 7,
   "metadata": {},
   "outputs": [
    {
     "data": {},
     "metadata": {},
     "output_type": "display_data"
    },
    {
     "data": {
      "image/png": "[encoded data removed]",
      "text/plain": [
       "plot without title"
      ]
     },
     "metadata": {},
     "output_type": "display_data"
    }
   ],
   "source": [
    "## Create data frame with end points of tangent line\n",
    "x_tan = 5\n",
    "y_tan = f(x_tan)\n",
    "m = 2 * x_tan + 1 # compute derivative\n",
    "df6 = data.frame(x = c(2,8), \n",
    "                 y = c(m*(2 - x_tan) + y_tan, m*(8 - x_tan) + y_tan))\n",
    "\n",
    "ggplot() +\n",
    "    geom_line(data = df1, aes(x,f), color = 'green', size = 1) +\n",
    "    geom_point(data = data.frame(x = x_tan, y = y_tan), aes(x,y), color = 'magenta', size = 3) +\n",
    "    geom_line(data = df6, aes(x,y), color = 'magenta', size = 1)  +\n",
    "    annotate(\"text\", x = x_tan + 1, y = y_tan - 5, label = '(x,f(x))')  +\n",
    "    ylab('f(x)')"
   ]
  },
  {
   "cell_type": "markdown",
   "metadata": {},
   "source": [
    "## Differentiability\n",
    "It's important to realize that a function may not be *differentiable* at every point; that is, you might not be able to calculate the derivative for every point on the function line.\n",
    "\n",
    "To be differentiable at a given point:\n",
    "- The function must be *continuous* at that point.\n",
    "- The tangent line at that point cannot be vertical\n",
    "- The line must be *smooth* at that point (that is, it cannot take on a sudden change of direction at the point)\n",
    "\n",
    "For example, consider the following (somewhat bizarre) function:\n",
    "\n",
    "\\begin{equation}\n",
    "q(x) = \\begin{cases}\n",
    "  \\frac{40,000}{x^{2}}, & \\text{if } x < -4, \\\\\n",
    "  (x^{2} -2) \\cdot (x - 1), & \\text{if } x \\ne 0 \\text{ and } x \\ge -4 \\text{ and } x < 8, \\\\\n",
    "  (x^{2} -2), & \\text{if } x \\ne 0 \\text{ and } x \\ge 8\n",
    "\\end{cases}\n",
    "\\end{equation}"
   ]
  },
  {
   "cell_type": "code",
   "execution_count": 8,
   "metadata": {},
   "outputs": [
    {
     "data": {},
     "metadata": {},
     "output_type": "display_data"
    },
    {
     "data": {
      "image/png": "[encoded data removed]",
      "text/plain": [
       "plot without title"
      ]
     },
     "metadata": {},
     "output_type": "display_data"
    }
   ],
   "source": [
    "g = function(x){\n",
    "    ifelse(x < -4, 40000/x^2,\n",
    "          ifelse(x != 0 & x > -4 & x < 8, (x^2-2)*(x-1),\n",
    "                 ifelse(x >= 8, x^2 - 2, NA)))\n",
    "}\n",
    "\n",
    "## Data to plot\n",
    "df7 = data.frame(x = c(seq(-10,-5),\n",
    "                       -3.99,\n",
    "                       -4.01,\n",
    "                       seq(-4,7),\n",
    "                       7.9999,\n",
    "                       seq(8,10)))\n",
    "df7$g = g(df7$x)\n",
    "\n",
    "## Points for illustration\n",
    "df8 = data.frame(x = c(-3.99, 0, 8))\n",
    "df8$y = g(df8$x)\n",
    "df8[2,] = c(0,0) # add point where function is not defined\n",
    "df8$labs = c('A (x= -4)', 'B (x= 0)', 'C (x= 8)')\n",
    "\n",
    "## Display plot\n",
    "ggplot() +\n",
    "    geom_line(data = df7, aes(x,g), color = 'green', size = 1) +\n",
    "    geom_point(data = df8, aes(x,y), color = 'magenta', size = 3) +\n",
    "#    geom_line(data = df6, aes(x,y), color = 'magenta', size = 1)  +\n",
    "    annotate(\"text\", x = df8$x, y = df8$y - 100, label = df8$lab)  +\n",
    "    ylab('g(x)')"
   ]
  },
  {
   "cell_type": "markdown",
   "metadata": {
    "collapsed": true
   },
   "source": [
    "The points marked on this graph are non-differentiable:\n",
    "- Point **A** is non-continuous - the limit from the negative side is infinity, but the limit from the positive side &approx; -57\n",
    "- Point **B** is also non-continuous - the function is not defined at x = 0.\n",
    "- Point **C** is defined and continuous, but the sharp change in direction makes it non-differentiable."
   ]
  },
  {
   "cell_type": "markdown",
   "metadata": {},
   "source": [
    "## Derivatives of Equations\n",
    "\n",
    "We've been talking about derivatives of *functions*, but it's important to remember that functions are just named operations that return a value. We can apply what we know about calculating derivatives to any equation, for example:\n",
    "\n",
    "\\begin{equation}\\frac{d}{dx}(2x + 6)\\end{equation}\n",
    "\n",
    "Note that we generally switch to *Leibniz's* notation when finding derivatives of equations that are not encapsulated as functions; but the approach for solving this example is exactly the same as if we had a hypothetical function with the definition *2x + 6*:\n",
    "\n",
    "\\begin{equation}\\frac{d}{dx}(2x + 6) = \\lim_{h \\to 0} \\frac{(2(x+h) + 6) - (2x + 6)}{h} \\end{equation}\n",
    "\n",
    "After factoring out the* 2(x+h)* on the left and the *-(2x - 6)* on the right, this is:\n",
    "\n",
    "\\begin{equation}\\frac{d}{dx}(2x + 6) = \\lim_{h \\to 0} \\frac{2x + 2h + 6 - 2x - 6}{h} \\end{equation}\n",
    "\n",
    "We can simplify this to:\n",
    "\n",
    "\\begin{equation}\\frac{d}{dx}(2x + 6) = \\lim_{h \\to 0} \\frac{2h}{h} \\end{equation}\n",
    "\n",
    "Now we can factor *h* out entirely, so at any point:\n",
    "\n",
    "\\begin{equation}\\frac{d}{dx}(2x + 6) = 2 \\end{equation}\n",
    "\n",
    "If you run the R code below to plot the line created by the equation, you'll see that it does indeed have a constant slope of 2:"
   ]
  },
  {
   "cell_type": "code",
   "execution_count": 9,
   "metadata": {},
   "outputs": [
    {
     "data": {},
     "metadata": {},
     "output_type": "display_data"
    },
    {
     "data": {
      "image/png": "[encoded data removed]",
      "text/plain": [
       "plot without title"
      ]
     },
     "metadata": {},
     "output_type": "display_data"
    }
   ],
   "source": [
    "df9 = data.frame(x = seq(1,10))\n",
    "df9$f = 2 * df9$x + 6 # Compute derivative for the x values\n",
    "\n",
    "ggplot(df9, aes(x,f)) +\n",
    "    geom_line(color = 'magenta', size = 1) +\n",
    "    ylab('y')"
   ]
  },
  {
   "cell_type": "markdown",
   "metadata": {},
   "source": [
    "## Derivative Rules and Operations\n",
    "When working with derivatives, there are some rules, or shortcuts, that you can apply to make your life easier.\n",
    "\n",
    "### Basic Derivative Rules\n",
    "Let's start with some basic rules that it's useful to know.\n",
    "\n",
    "- If *f(x)* = *C* (where *C* is a constant), then *f'(x)* = 0\n",
    "\n",
    "    This makes sense if you think about it for a second. No matter what value you use for *x*, the function returns the same constant value; so the graph of the function will be a horizontal line. There's no rate of change in a horizontal line, so its slope is 0 at all points. This is true of any constant, including symbolic constants like *&pi;* (pi).\n",
    "    \n",
    "    So, for example:\n",
    "    \n",
    "\\begin{equation}f(x) = 6 \\;\\; \\therefore \\;\\; f'(x) = 0 \\end{equation}\n",
    "\n",
    "    Or:\n",
    "\n",
    "\\begin{equation}f(x) = \\pi \\;\\; \\therefore \\;\\; f'(x) = 0 \\end{equation}\n",
    "    \n",
    "- If *f(x)* = *Cg(x)*, then *f'(x)* = *Cg'(x)*\n",
    "\n",
    "    This rule tells us that if a function is equal to a second function multiplied by a constant, then the derivative of the first function will be equal to the derivative of the second function multiplied by the same constant. For example:\n",
    "    \n",
    "\\begin{equation}f(x) = 2g(x) \\;\\; \\therefore \\;\\; f'(x) = 2g'(x) \\end{equation}\n",
    "\n",
    "- If *f(x)* = *g(x)* + *h(x)*, then *f'(x)* = *g'(x)* + *h'(x)*\n",
    "\n",
    "    In other words, if a function is the sum of two other functions, then the derivative of the first function is the sum of the derivatives of the other two functions. For example:\n",
    "    \n",
    "\\begin{equation}f(x) = g(x) + h(x) \\;\\; \\therefore \\;\\; f'(x) = g'(x) + h'(x) \\end{equation}\n",
    "\n",
    "    Of course, this also applies to subtraction:\n",
    "    \n",
    "\\begin{equation}f(x) = k(x) - l(x) \\;\\; \\therefore \\;\\; f'(x) = k'(x) - l'(x) \\end{equation}\n",
    "\n",
    "As discussed previously, functions are just equations encapsulated as a named entity that return a value; and the rules can be applied to any equation. For example:\n",
    "\n",
    "\\begin{equation}\\frac{d}{dx}(2x + 6) = \\frac{d}{dx} 2x +  \\frac{d}{dx} 6\\end{equation}\n",
    "\n",
    "So we can take advantage of the rules to make the calculation a little easier:\n",
    "\n",
    "\\begin{equation}\\frac{d}{dx}(2x) = \\lim_{h \\to 0} \\frac{2(x+h) - 2x}{h} \\end{equation}\n",
    "\n",
    "After factoring out the* 2(x+h)* on the left, this is:\n",
    "\n",
    "\\begin{equation}\\frac{d}{dx}(2x) = \\lim_{h \\to 0} \\frac{2x + 2h - 2x}{h} \\end{equation}\n",
    "\n",
    "We can simplify this to:\n",
    "\n",
    "\\begin{equation}\\frac{d}{dx}(2x) = \\lim_{h \\to 0} \\frac{2h}{h} \\end{equation}\n",
    "\n",
    "Which gives us:\n",
    "\n",
    "\\begin{equation}\\frac{d}{dx}(2x) = 2 \\end{equation}\n",
    "\n",
    "Now we can turn our attention to the derivative of the constant 6 with respect to *x*, and we know that the derivative of a constant is always 0, so:\n",
    "\n",
    "\\begin{equation}\\frac{d}{dx}(6) = 0\\end{equation}\n",
    "\n",
    "We add the two derivatives we calculated:\n",
    "\n",
    "\\begin{equation}\\frac{d}{dx}(2x + 6) = 2 + 0\\end{equation}\n",
    "\n",
    "Which gives us our result:\n",
    "\n",
    "\\begin{equation}\\frac{d}{dx}(2x + 6) = 2\\end{equation}\n",
    "\n",
    "\n",
    "### The Power Rule\n",
    "The *power rule* is one of the most useful shortcuts in the world of differential calculus. It can be stated like this:\n",
    "\n",
    "\\begin{equation}f(x) = x^{n} \\;\\; \\therefore \\;\\; f'(x) = nx^{n-1}\\end{equation}\n",
    "\n",
    "So if our function for *x* returns *x* to the power of some constant (which we'll call *n*), then the derivative of the function for *x* is *n* times *x* to the power of *n* - 1.\n",
    "\n",
    "It's probably helpful to look at a few examples to see how this works:\n",
    "\n",
    "\\begin{equation}f(x) = x^{3} \\;\\; \\therefore \\;\\; f'(x) = 3x^{2}\\end{equation}\n",
    "\n",
    "\\begin{equation}f(x) = x^{-2} \\;\\; \\therefore \\;\\; f'(x) = -2x^{-3}\\end{equation}\n",
    "\n",
    "\\begin{equation}f(x) = x^{2} \\;\\; \\therefore \\;\\; f'(x) = 2x\\end{equation}\n",
    "\n",
    "In each of these examples, the exponential of *x* in the function definition becomes the coefficient for *x* in the derivative definition, with the exponential is decremented by 1.\n",
    "\n",
    "Here's a worked example to find the derivative of the following function:\n",
    "\n",
    "\\begin{equation}f(x) = x^{2}\\end{equation}\n",
    "\n",
    "So we start with the general derivative function:\n",
    "\n",
    "\\begin{equation}f'(x) = \\lim_{h \\to 0} \\frac{f(x + h) - f(x)}{h} \\end{equation}\n",
    "\n",
    "We can plug in our definition for *f*:\n",
    "\n",
    "\\begin{equation}f'(x) = \\lim_{h \\to 0} \\frac{(x + h)^{2} - x^{2}}{h} \\end{equation}\n",
    "\n",
    "Now we can factor out the perfect square binomial on the left:\n",
    "\n",
    "\\begin{equation}f'(x) = \\lim_{h \\to 0} \\frac{x^{2} + h^{2} + 2xh - x^{2}}{h} \\end{equation}\n",
    "\n",
    "The x<sup>2</sup> terms cancel each other out so we get to:\n",
    "\n",
    "\\begin{equation}f'(x) = \\lim_{h \\to 0} \\frac{h^{2} + 2xh}{h} \\end{equation}\n",
    "\n",
    "Which simplifies to:\n",
    "\n",
    "\\begin{equation}f'(x) = \\lim_{h \\to 0} h + 2x \\end{equation}\n",
    "\n",
    "With *h* approaching 0, this is:\n",
    "\n",
    "\\begin{equation}f'(x) = 0 + 2x \\end{equation}\n",
    "\n",
    "So our answer is:\n",
    "\n",
    "\\begin{equation}f'(x) = 2x \\end{equation}\n",
    "\n",
    "Note that we could have achieved the same result by simply applying the power rule and transforming x<sup>2</sup> to 2x<sup>1</sup> (which is the same as 2x).\n",
    "\n",
    "### The Product Rule\n",
    "The product rule can be stated as:\n",
    "\n",
    "\\begin{equation}\\frac{d}{dx}[f(x)g(x)] = f'(x)g(x) + f(x)g'(x) \\end{equation}\n",
    "\n",
    "OK, let's break that down. What it's saying is that the derivative of *f(x)* multiplied by *g(x)* is equal to the derivative of *f(x)* multiplied by the value of *g(x)* added to the value of *f(x)* multiplied by the derivative of *g(x*).\n",
    "\n",
    "Let's see an example based on the following two functions:\n",
    "\n",
    "\\begin{equation}f(x) = 2x^{2} \\end{equation}\n",
    "\n",
    "\\begin{equation}g(x) = x + 1 \\end{equation}\n",
    "\n",
    "Let's start by calculating the derivative of *f(x)*:\n",
    "\n",
    "\\begin{equation}f'(x) = \\lim_{h \\to 0} \\frac{2(x + h)^{2} - 2x^{2}}{h} \\end{equation}\n",
    "\n",
    "This factors out to:\n",
    "\n",
    "\\begin{equation}f'(x) = \\lim_{h \\to 0} \\frac{2x^{2} + 2h^{2} + 4xh - 2x^{2}}{h} \\end{equation}\n",
    "\n",
    "Which when we cancel out the 2x<sup>2</sup> and -2x<sup>2</sup> is:\n",
    "\n",
    "\\begin{equation}f'(x) = \\lim_{h \\to 0} \\frac{2h^{2} + 4xh}{h} \\end{equation}\n",
    "\n",
    "Which simplifies to:\n",
    "\n",
    "\\begin{equation}f'(x) = \\lim_{h \\to 0} 2h + 4x \\end{equation}\n",
    "\n",
    "With *h* approaching 0, this is:\n",
    "\n",
    "\\begin{equation}f'(x) = 4x \\end{equation}\n",
    "\n",
    "Now let's look at *g'(x)*:\n",
    "\n",
    "\\begin{equation}g'(x) = \\lim_{h \\to 0} \\frac{(x + h) + 1 - (x + 1)}{h} \\end{equation}\n",
    "\n",
    "We can just remove the brackets on the left and factor out the *-(x + 1)* on the right:\n",
    "\n",
    "\\begin{equation}g'(x) = \\lim_{h \\to 0} \\frac{x + h + 1 - x - 1}{h} \\end{equation}\n",
    "\n",
    "Which can be cleaned up to:\n",
    "\n",
    "\\begin{equation}g'(x) = \\lim_{h \\to 0} \\frac{h}{h} \\end{equation}\n",
    "\n",
    "Enabling us to factor *h* out completely to give a constant derivative of *1*:\n",
    "\n",
    "\\begin{equation}g'(x) = 1 \\end{equation}\n",
    "\n",
    "So now we can calculate the derivative for the product of these functions by plugging the functions and the derivatives we've calculated for them into the product rule equation:\n",
    "\n",
    "\\begin{equation}\\frac{d}{dx}[f(x)g(x)] = f'(x)g(x) + f(x)g'(x) \\end{equation}\n",
    "\n",
    "So:\n",
    "\n",
    "\\begin{equation}\\frac{d}{dx}[f(x)g(x)] = (4x \\cdot (x + 1)) + (2x^{2} \\cdot 1) \\end{equation}\n",
    "\n",
    "Which can be simplified to:\n",
    "\n",
    "\\begin{equation}\\frac{d}{dx}[f(x)g(x)] = (4x^{2} + 4x) + 2x^{2} \\end{equation}\n",
    "\n",
    "Which can be further simplified to:\n",
    "\n",
    "\\begin{equation}\\frac{d}{dx}[f(x)g(x)] = 6x^{2} + 4x \\end{equation}"
   ]
  },
  {
   "cell_type": "markdown",
   "metadata": {},
   "source": [
    "### The Quotient Rule\n",
    "The *quotient rule* applies to functions that are defined as a quotient of one expression divided by another; for example:\n",
    "\n",
    "\\begin{equation}r(x) = \\frac{s(x)}{t(x)} \\end{equation}\n",
    "\n",
    "In this situation, you can apply the following quotient rule to find the derivative of *r(x)*:\n",
    "\n",
    "\\begin{equation}r'(x) = \\frac{s'(x)t(x) - s(x)t'(x)}{[t(x)]^{2}} \\end{equation}\n",
    "\n",
    "Here are our definitions for *s(x)* and *t(x)*:\n",
    "\n",
    "\\begin{equation}s(x) = 3x^{2} \\end{equation}\n",
    "\n",
    "\\begin{equation}t(x) = 2x\\end{equation}\n",
    "\n",
    "Let's start with *s'(x)*:\n",
    "\n",
    "\\begin{equation}s'(x) = \\lim_{h \\to 0} \\frac{3(x + h)^{2} - 3x^{2}}{h} \\end{equation}\n",
    "\n",
    "This factors out to:\n",
    "\n",
    "\\begin{equation}s'(x) = \\lim_{h \\to 0} \\frac{3x^{2} + 3h^{2} + 6xh - 3x^{2}}{h} \\end{equation}\n",
    "\n",
    "Which when we cancel out the 3x<sup>2</sup> and -3x<sup>2</sup> is:\n",
    "\n",
    "\\begin{equation}s'(x) = \\lim_{h \\to 0} \\frac{3h^{2} + 6xh}{h} \\end{equation}\n",
    "\n",
    "Which simplifies to:\n",
    "\n",
    "\\begin{equation}s'(x) = \\lim_{h \\to 0} 3h + 6x \\end{equation}\n",
    "\n",
    "With *h* approaching 0, this is:\n",
    "\n",
    "\\begin{equation}s'(x) = 6x \\end{equation}\n",
    "\n",
    "Now let's look at *t'(x)*:\n",
    "\n",
    "\\begin{equation}t'(x) = \\lim_{h \\to 0} \\frac{2(x + h) - 2x}{h} \\end{equation}\n",
    "\n",
    "We can just factor out the *2(x + h)* on the left:\n",
    "\n",
    "\\begin{equation}t'(x) = \\lim_{h \\to 0} \\frac{2x + 2h - 2x}{h} \\end{equation}\n",
    "\n",
    "Which can be cleaned up to:\n",
    "\n",
    "\\begin{equation}t'(x) = \\lim_{h \\to 0} \\frac{2h}{h} \\end{equation}\n",
    "\n",
    "Enabling us to factor *h* out completely to give a constant derivative of *2*:\n",
    "\n",
    "\\begin{equation}t'(x) = 2 \\end{equation}\n",
    "\n",
    "So now we can calculate the derivative for the quotient of these functions by plugging the function definitions and the derivatives we've calculated for them into the quotient rule equation:\n",
    "\n",
    "\\begin{equation}r'(x) = \\frac{(6x \\cdot 2x) - (3x^{2} \\cdot 2)}{[2x]^{2}} \\end{equation}\n",
    "\n",
    "We can factor out the numerator terms like this:\n",
    "\n",
    "\\begin{equation}r'(x) = \\frac{12x^{2} - 6x^{2}}{[2x]^{2}} \\end{equation}\n",
    "\n",
    "Which can then be combined:\n",
    "\n",
    "\\begin{equation}r'(x) = \\frac{6x^{2}}{[2x]^{2}} \\end{equation}\n",
    "\n",
    "The denominator is [2x]<sup>2</sup> (note that this is different from 2x<sup>2</sup>. [2x]<sup>2</sup> is 2x &bull; 2x, whereas  2x<sup>2</sup> is 2 &bull; x<sup>2</sup>):\n",
    "\n",
    "\\begin{equation}r'(x) = \\frac{6x^{2}}{4x^{2}} \\end{equation}\n",
    "\n",
    "Which simplifies to:\n",
    "\n",
    "\\begin{equation}r'(x) = 1\\frac{1}{2} \\end{equation}\n",
    "\n",
    "So the derivative of *r(x)* is 1.5."
   ]
  },
  {
   "cell_type": "markdown",
   "metadata": {},
   "source": [
    "### The Chain Rule\n",
    "\n",
    "The *chain rule* takes advantage of the fact that equations can be encapsulated as functions, and since functions contain equations, it's possible to nest one function within another.\n",
    "\n",
    "For example, consider the following function:\n",
    "\n",
    "\\begin{equation}u(x) = 2x^{2} \\end{equation}\n",
    "\n",
    "We could view the definition of *u(x)* as a composite of two functions,; an *inner* function that calculates x<sup>2</sup>, and an *outer* function that multiplies the result of the inner function by 2.\n",
    "\n",
    "\\begin{equation}u(x) = \\widehat{\\color{blue}2\\color{blue}(\\underline{\\color{red}x^{\\color{red}2}}\\color{blue})} \\end{equation}\n",
    "\n",
    "To make things simpler, we can name these inner and outer functions:\n",
    "\n",
    "\\begin{equation}i(x) = x^{2} \\end{equation}\n",
    "\n",
    "\\begin{equation}o(x) = 2x \\end{equation}\n",
    "\n",
    "Note that *x* indicates the input for each function. Function *i* takes its input and squares it, and function *o* takes its input and multiplies it by 2. When we use these as a composite function, the *x* value input into the outer function will be the output from the inner function.\n",
    "\n",
    "Let's take a look at how we can apply these functions to get back to our original *u* function:\n",
    "\n",
    "\\begin{equation}u(x) = o(i(x)) \\end{equation}\n",
    "\n",
    "So first we need to find the output of the inner *i* function so we can use at as the input value for the outer *o* function. Well, that's easy, we know the definition of *i* (square the input), so we can just plug it in:\n",
    "\n",
    "\\begin{equation}u(x) = o(x^{2}) \\end{equation}\n",
    "\n",
    "We also know the definition for the outer *o* function (multiply the input by 2), so we can just apply that to the input:\n",
    "\n",
    "\\begin{equation}u(x) = 2x^{2} \\end{equation}\n",
    "\n",
    "OK, so now we know how to form a composite function. The *chain rule* can be stated like this:\n",
    "\n",
    "\\begin{equation}\\frac{d}{dx}[o(i(x))] = o'(i(x)) \\cdot i'(x)\\end{equation}\n",
    "\n",
    "Alright, let's start by plugging the output of the inner *i(x)* function in:\n",
    "\n",
    "\\begin{equation}\\frac{d}{dx}[o(i(x))] = o'(x^{2}) \\cdot i'(x)\\end{equation}\n",
    "\n",
    "Now let's use that to calculate the derivative of *o*, replacing each *x* in the equation with the output from the *i* function (*x<sup>2</sup>*):\n",
    "\n",
    "\\begin{equation}o'(x) = \\lim_{h \\to 0} \\frac{2(x^{2} + h) - 2x^{2}}{h} \\end{equation}\n",
    "\n",
    "This factors out to:\n",
    "\n",
    "\\begin{equation}o'(x) = \\lim_{h \\to 0} \\frac{2x^{2} + 2h - 2x^{2}}{h} \\end{equation}\n",
    "\n",
    "Which when we cancel out the 2x<sup>2</sup> and -2x<sup>2</sup> is:\n",
    "\n",
    "\\begin{equation}o'(x) = \\lim_{h \\to 0} \\frac{2h}{h} \\end{equation}\n",
    "\n",
    "Which simplifies to:\n",
    "\n",
    "\\begin{equation}o'(x) = 2 \\end{equation}\n",
    "\n",
    "Now we can calculate *i'(x)*. We know that the definition of *i(x)* is x<sup>2</sup>, and we can use the power rule to determine that *i'(x)* is therefore 2x.\n",
    "\n",
    "So our equation at this point is:\n",
    "\n",
    "\\begin{equation}\\frac{d}{dx}[o(i(x))] = 2 \\cdot 2x\\end{equation}\n",
    "\n",
    "Which is:\n",
    "\n",
    "\\begin{equation}\\frac{d}{dx}[o(i(x))] = 4x\\end{equation}\n",
    "\n",
    "Commonly, the chain rule is stated using a slighly different notation that you may find easier to work with. In this case, we can take our equation:\n",
    "\n",
    "\\begin{equation}\\frac{d}{dx}[o(i(x))] = o'(i(x)) \\cdot i'(x)\\end{equation}\n",
    "\n",
    "and rewrite it as \n",
    "\n",
    "\\begin{equation}\\frac{du}{dx} = \\frac{do}{di}\\frac{di}{dx}\\end{equation}\n",
    "\n",
    "We can then complete the calculations like this:\n",
    "\n",
    "\\begin{equation}\\frac{du}{dx} = 2 \\cdot 2x = 4x\\end{equation}"
   ]
  }
 ],
 "metadata": {
  "kernelspec": {
   "display_name": "R",
   "language": "R",
   "name": "ir"
  },
  "language_info": {
   "codemirror_mode": "r",
   "file_extension": ".r",
   "mimetype": "text/x-r-source",
   "name": "R",
   "pygments_lexer": "r",
   "version": "3.5.0"
  }
 },
 "nbformat": 4,
 "nbformat_minor": 2
}
